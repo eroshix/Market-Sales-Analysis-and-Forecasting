{
 "cells": [
  {
   "cell_type": "code",
   "execution_count": 58,
   "id": "300b0910-e104-48d0-b210-2a245d06625b",
   "metadata": {},
   "outputs": [],
   "source": [
    "import pandas as pd"
   ]
  },
  {
   "cell_type": "code",
   "execution_count": 59,
   "id": "29ba6062-e13a-4b6f-bf30-21ae6d80035f",
   "metadata": {},
   "outputs": [],
   "source": [
    "df = pd.read_csv('train.csv')"
   ]
  },
  {
   "cell_type": "code",
   "execution_count": 60,
   "id": "2ed9ad24-7581-4673-815b-87adcf630ac7",
   "metadata": {},
   "outputs": [
    {
     "data": {
      "application/vnd.microsoft.datawrangler.viewer.v0+json": {
       "columns": [
        {
         "name": "index",
         "rawType": "int64",
         "type": "integer"
        },
        {
         "name": "Row ID",
         "rawType": "int64",
         "type": "integer"
        },
        {
         "name": "Order ID",
         "rawType": "object",
         "type": "string"
        },
        {
         "name": "Order Date",
         "rawType": "object",
         "type": "string"
        },
        {
         "name": "Ship Date",
         "rawType": "object",
         "type": "string"
        },
        {
         "name": "Ship Mode",
         "rawType": "object",
         "type": "string"
        },
        {
         "name": "Customer ID",
         "rawType": "object",
         "type": "string"
        },
        {
         "name": "Customer Name",
         "rawType": "object",
         "type": "string"
        },
        {
         "name": "Segment",
         "rawType": "object",
         "type": "string"
        },
        {
         "name": "Country",
         "rawType": "object",
         "type": "string"
        },
        {
         "name": "City",
         "rawType": "object",
         "type": "string"
        },
        {
         "name": "State",
         "rawType": "object",
         "type": "string"
        },
        {
         "name": "Postal Code",
         "rawType": "float64",
         "type": "float"
        },
        {
         "name": "Region",
         "rawType": "object",
         "type": "string"
        },
        {
         "name": "Product ID",
         "rawType": "object",
         "type": "string"
        },
        {
         "name": "Category",
         "rawType": "object",
         "type": "string"
        },
        {
         "name": "Sub-Category",
         "rawType": "object",
         "type": "string"
        },
        {
         "name": "Product Name",
         "rawType": "object",
         "type": "string"
        },
        {
         "name": "Sales",
         "rawType": "float64",
         "type": "float"
        }
       ],
       "ref": "3639e3c7-511c-4337-b0f1-701ebc826d0e",
       "rows": [
        [
         "0",
         "1",
         "CA-2017-152156",
         "08/11/2017",
         "11/11/2017",
         "Second Class",
         "CG-12520",
         "Claire Gute",
         "Consumer",
         "United States",
         "Henderson",
         "Kentucky",
         "42420.0",
         "South",
         "FUR-BO-10001798",
         "Furniture",
         "Bookcases",
         "Bush Somerset Collection Bookcase",
         "261.96"
        ],
        [
         "1",
         "2",
         "CA-2017-152156",
         "08/11/2017",
         "11/11/2017",
         "Second Class",
         "CG-12520",
         "Claire Gute",
         "Consumer",
         "United States",
         "Henderson",
         "Kentucky",
         "42420.0",
         "South",
         "FUR-CH-10000454",
         "Furniture",
         "Chairs",
         "Hon Deluxe Fabric Upholstered Stacking Chairs, Rounded Back",
         "731.94"
        ],
        [
         "2",
         "3",
         "CA-2017-138688",
         "12/06/2017",
         "16/06/2017",
         "Second Class",
         "DV-13045",
         "Darrin Van Huff",
         "Corporate",
         "United States",
         "Los Angeles",
         "California",
         "90036.0",
         "West",
         "OFF-LA-10000240",
         "Office Supplies",
         "Labels",
         "Self-Adhesive Address Labels for Typewriters by Universal",
         "14.62"
        ],
        [
         "3",
         "4",
         "US-2016-108966",
         "11/10/2016",
         "18/10/2016",
         "Standard Class",
         "SO-20335",
         "Sean O'Donnell",
         "Consumer",
         "United States",
         "Fort Lauderdale",
         "Florida",
         "33311.0",
         "South",
         "FUR-TA-10000577",
         "Furniture",
         "Tables",
         "Bretford CR4500 Series Slim Rectangular Table",
         "957.5775"
        ],
        [
         "4",
         "5",
         "US-2016-108966",
         "11/10/2016",
         "18/10/2016",
         "Standard Class",
         "SO-20335",
         "Sean O'Donnell",
         "Consumer",
         "United States",
         "Fort Lauderdale",
         "Florida",
         "33311.0",
         "South",
         "OFF-ST-10000760",
         "Office Supplies",
         "Storage",
         "Eldon Fold 'N Roll Cart System",
         "22.368"
        ]
       ],
       "shape": {
        "columns": 18,
        "rows": 5
       }
      },
      "text/html": [
       "<div>\n",
       "<style scoped>\n",
       "    .dataframe tbody tr th:only-of-type {\n",
       "        vertical-align: middle;\n",
       "    }\n",
       "\n",
       "    .dataframe tbody tr th {\n",
       "        vertical-align: top;\n",
       "    }\n",
       "\n",
       "    .dataframe thead th {\n",
       "        text-align: right;\n",
       "    }\n",
       "</style>\n",
       "<table border=\"1\" class=\"dataframe\">\n",
       "  <thead>\n",
       "    <tr style=\"text-align: right;\">\n",
       "      <th></th>\n",
       "      <th>Row ID</th>\n",
       "      <th>Order ID</th>\n",
       "      <th>Order Date</th>\n",
       "      <th>Ship Date</th>\n",
       "      <th>Ship Mode</th>\n",
       "      <th>Customer ID</th>\n",
       "      <th>Customer Name</th>\n",
       "      <th>Segment</th>\n",
       "      <th>Country</th>\n",
       "      <th>City</th>\n",
       "      <th>State</th>\n",
       "      <th>Postal Code</th>\n",
       "      <th>Region</th>\n",
       "      <th>Product ID</th>\n",
       "      <th>Category</th>\n",
       "      <th>Sub-Category</th>\n",
       "      <th>Product Name</th>\n",
       "      <th>Sales</th>\n",
       "    </tr>\n",
       "  </thead>\n",
       "  <tbody>\n",
       "    <tr>\n",
       "      <th>0</th>\n",
       "      <td>1</td>\n",
       "      <td>CA-2017-152156</td>\n",
       "      <td>08/11/2017</td>\n",
       "      <td>11/11/2017</td>\n",
       "      <td>Second Class</td>\n",
       "      <td>CG-12520</td>\n",
       "      <td>Claire Gute</td>\n",
       "      <td>Consumer</td>\n",
       "      <td>United States</td>\n",
       "      <td>Henderson</td>\n",
       "      <td>Kentucky</td>\n",
       "      <td>42420.0</td>\n",
       "      <td>South</td>\n",
       "      <td>FUR-BO-10001798</td>\n",
       "      <td>Furniture</td>\n",
       "      <td>Bookcases</td>\n",
       "      <td>Bush Somerset Collection Bookcase</td>\n",
       "      <td>261.9600</td>\n",
       "    </tr>\n",
       "    <tr>\n",
       "      <th>1</th>\n",
       "      <td>2</td>\n",
       "      <td>CA-2017-152156</td>\n",
       "      <td>08/11/2017</td>\n",
       "      <td>11/11/2017</td>\n",
       "      <td>Second Class</td>\n",
       "      <td>CG-12520</td>\n",
       "      <td>Claire Gute</td>\n",
       "      <td>Consumer</td>\n",
       "      <td>United States</td>\n",
       "      <td>Henderson</td>\n",
       "      <td>Kentucky</td>\n",
       "      <td>42420.0</td>\n",
       "      <td>South</td>\n",
       "      <td>FUR-CH-10000454</td>\n",
       "      <td>Furniture</td>\n",
       "      <td>Chairs</td>\n",
       "      <td>Hon Deluxe Fabric Upholstered Stacking Chairs,...</td>\n",
       "      <td>731.9400</td>\n",
       "    </tr>\n",
       "    <tr>\n",
       "      <th>2</th>\n",
       "      <td>3</td>\n",
       "      <td>CA-2017-138688</td>\n",
       "      <td>12/06/2017</td>\n",
       "      <td>16/06/2017</td>\n",
       "      <td>Second Class</td>\n",
       "      <td>DV-13045</td>\n",
       "      <td>Darrin Van Huff</td>\n",
       "      <td>Corporate</td>\n",
       "      <td>United States</td>\n",
       "      <td>Los Angeles</td>\n",
       "      <td>California</td>\n",
       "      <td>90036.0</td>\n",
       "      <td>West</td>\n",
       "      <td>OFF-LA-10000240</td>\n",
       "      <td>Office Supplies</td>\n",
       "      <td>Labels</td>\n",
       "      <td>Self-Adhesive Address Labels for Typewriters b...</td>\n",
       "      <td>14.6200</td>\n",
       "    </tr>\n",
       "    <tr>\n",
       "      <th>3</th>\n",
       "      <td>4</td>\n",
       "      <td>US-2016-108966</td>\n",
       "      <td>11/10/2016</td>\n",
       "      <td>18/10/2016</td>\n",
       "      <td>Standard Class</td>\n",
       "      <td>SO-20335</td>\n",
       "      <td>Sean O'Donnell</td>\n",
       "      <td>Consumer</td>\n",
       "      <td>United States</td>\n",
       "      <td>Fort Lauderdale</td>\n",
       "      <td>Florida</td>\n",
       "      <td>33311.0</td>\n",
       "      <td>South</td>\n",
       "      <td>FUR-TA-10000577</td>\n",
       "      <td>Furniture</td>\n",
       "      <td>Tables</td>\n",
       "      <td>Bretford CR4500 Series Slim Rectangular Table</td>\n",
       "      <td>957.5775</td>\n",
       "    </tr>\n",
       "    <tr>\n",
       "      <th>4</th>\n",
       "      <td>5</td>\n",
       "      <td>US-2016-108966</td>\n",
       "      <td>11/10/2016</td>\n",
       "      <td>18/10/2016</td>\n",
       "      <td>Standard Class</td>\n",
       "      <td>SO-20335</td>\n",
       "      <td>Sean O'Donnell</td>\n",
       "      <td>Consumer</td>\n",
       "      <td>United States</td>\n",
       "      <td>Fort Lauderdale</td>\n",
       "      <td>Florida</td>\n",
       "      <td>33311.0</td>\n",
       "      <td>South</td>\n",
       "      <td>OFF-ST-10000760</td>\n",
       "      <td>Office Supplies</td>\n",
       "      <td>Storage</td>\n",
       "      <td>Eldon Fold 'N Roll Cart System</td>\n",
       "      <td>22.3680</td>\n",
       "    </tr>\n",
       "  </tbody>\n",
       "</table>\n",
       "</div>"
      ],
      "text/plain": [
       "   Row ID        Order ID  Order Date   Ship Date       Ship Mode Customer ID  \\\n",
       "0       1  CA-2017-152156  08/11/2017  11/11/2017    Second Class    CG-12520   \n",
       "1       2  CA-2017-152156  08/11/2017  11/11/2017    Second Class    CG-12520   \n",
       "2       3  CA-2017-138688  12/06/2017  16/06/2017    Second Class    DV-13045   \n",
       "3       4  US-2016-108966  11/10/2016  18/10/2016  Standard Class    SO-20335   \n",
       "4       5  US-2016-108966  11/10/2016  18/10/2016  Standard Class    SO-20335   \n",
       "\n",
       "     Customer Name    Segment        Country             City       State  \\\n",
       "0      Claire Gute   Consumer  United States        Henderson    Kentucky   \n",
       "1      Claire Gute   Consumer  United States        Henderson    Kentucky   \n",
       "2  Darrin Van Huff  Corporate  United States      Los Angeles  California   \n",
       "3   Sean O'Donnell   Consumer  United States  Fort Lauderdale     Florida   \n",
       "4   Sean O'Donnell   Consumer  United States  Fort Lauderdale     Florida   \n",
       "\n",
       "   Postal Code Region       Product ID         Category Sub-Category  \\\n",
       "0      42420.0  South  FUR-BO-10001798        Furniture    Bookcases   \n",
       "1      42420.0  South  FUR-CH-10000454        Furniture       Chairs   \n",
       "2      90036.0   West  OFF-LA-10000240  Office Supplies       Labels   \n",
       "3      33311.0  South  FUR-TA-10000577        Furniture       Tables   \n",
       "4      33311.0  South  OFF-ST-10000760  Office Supplies      Storage   \n",
       "\n",
       "                                        Product Name     Sales  \n",
       "0                  Bush Somerset Collection Bookcase  261.9600  \n",
       "1  Hon Deluxe Fabric Upholstered Stacking Chairs,...  731.9400  \n",
       "2  Self-Adhesive Address Labels for Typewriters b...   14.6200  \n",
       "3      Bretford CR4500 Series Slim Rectangular Table  957.5775  \n",
       "4                     Eldon Fold 'N Roll Cart System   22.3680  "
      ]
     },
     "execution_count": 60,
     "metadata": {},
     "output_type": "execute_result"
    }
   ],
   "source": [
    "df.head()"
   ]
  },
  {
   "cell_type": "code",
   "execution_count": 61,
   "id": "17245f8b-1ea4-4350-8d88-728aca0ab49e",
   "metadata": {},
   "outputs": [
    {
     "name": "stdout",
     "output_type": "stream",
     "text": [
      "<class 'pandas.core.frame.DataFrame'>\n",
      "RangeIndex: 9800 entries, 0 to 9799\n",
      "Data columns (total 18 columns):\n",
      " #   Column         Non-Null Count  Dtype  \n",
      "---  ------         --------------  -----  \n",
      " 0   Row ID         9800 non-null   int64  \n",
      " 1   Order ID       9800 non-null   object \n",
      " 2   Order Date     9800 non-null   object \n",
      " 3   Ship Date      9800 non-null   object \n",
      " 4   Ship Mode      9800 non-null   object \n",
      " 5   Customer ID    9800 non-null   object \n",
      " 6   Customer Name  9800 non-null   object \n",
      " 7   Segment        9800 non-null   object \n",
      " 8   Country        9800 non-null   object \n",
      " 9   City           9800 non-null   object \n",
      " 10  State          9800 non-null   object \n",
      " 11  Postal Code    9789 non-null   float64\n",
      " 12  Region         9800 non-null   object \n",
      " 13  Product ID     9800 non-null   object \n",
      " 14  Category       9800 non-null   object \n",
      " 15  Sub-Category   9800 non-null   object \n",
      " 16  Product Name   9800 non-null   object \n",
      " 17  Sales          9800 non-null   float64\n",
      "dtypes: float64(2), int64(1), object(15)\n",
      "memory usage: 1.3+ MB\n"
     ]
    }
   ],
   "source": [
    "df.info()"
   ]
  },
  {
   "cell_type": "code",
   "execution_count": 62,
   "id": "005b758f-52b5-496f-9e13-84661bde2e7c",
   "metadata": {},
   "outputs": [
    {
     "data": {
      "application/vnd.microsoft.datawrangler.viewer.v0+json": {
       "columns": [
        {
         "name": "index",
         "rawType": "object",
         "type": "string"
        },
        {
         "name": "Row ID",
         "rawType": "float64",
         "type": "float"
        },
        {
         "name": "Postal Code",
         "rawType": "float64",
         "type": "float"
        },
        {
         "name": "Sales",
         "rawType": "float64",
         "type": "float"
        }
       ],
       "ref": "ffa5b8b5-528b-4922-9eed-7d2499c098ea",
       "rows": [
        [
         "count",
         "9800.0",
         "9789.0",
         "9800.0"
        ],
        [
         "mean",
         "4900.5",
         "55273.322402696904",
         "230.76905945918367"
        ],
        [
         "std",
         "2829.1606529145706",
         "32041.223412812957",
         "626.6518748388042"
        ],
        [
         "min",
         "1.0",
         "1040.0",
         "0.444"
        ],
        [
         "25%",
         "2450.75",
         "23223.0",
         "17.248"
        ],
        [
         "50%",
         "4900.5",
         "58103.0",
         "54.489999999999995"
        ],
        [
         "75%",
         "7350.25",
         "90008.0",
         "210.60500000000002"
        ],
        [
         "max",
         "9800.0",
         "99301.0",
         "22638.48"
        ]
       ],
       "shape": {
        "columns": 3,
        "rows": 8
       }
      },
      "text/html": [
       "<div>\n",
       "<style scoped>\n",
       "    .dataframe tbody tr th:only-of-type {\n",
       "        vertical-align: middle;\n",
       "    }\n",
       "\n",
       "    .dataframe tbody tr th {\n",
       "        vertical-align: top;\n",
       "    }\n",
       "\n",
       "    .dataframe thead th {\n",
       "        text-align: right;\n",
       "    }\n",
       "</style>\n",
       "<table border=\"1\" class=\"dataframe\">\n",
       "  <thead>\n",
       "    <tr style=\"text-align: right;\">\n",
       "      <th></th>\n",
       "      <th>Row ID</th>\n",
       "      <th>Postal Code</th>\n",
       "      <th>Sales</th>\n",
       "    </tr>\n",
       "  </thead>\n",
       "  <tbody>\n",
       "    <tr>\n",
       "      <th>count</th>\n",
       "      <td>9800.000000</td>\n",
       "      <td>9789.000000</td>\n",
       "      <td>9800.000000</td>\n",
       "    </tr>\n",
       "    <tr>\n",
       "      <th>mean</th>\n",
       "      <td>4900.500000</td>\n",
       "      <td>55273.322403</td>\n",
       "      <td>230.769059</td>\n",
       "    </tr>\n",
       "    <tr>\n",
       "      <th>std</th>\n",
       "      <td>2829.160653</td>\n",
       "      <td>32041.223413</td>\n",
       "      <td>626.651875</td>\n",
       "    </tr>\n",
       "    <tr>\n",
       "      <th>min</th>\n",
       "      <td>1.000000</td>\n",
       "      <td>1040.000000</td>\n",
       "      <td>0.444000</td>\n",
       "    </tr>\n",
       "    <tr>\n",
       "      <th>25%</th>\n",
       "      <td>2450.750000</td>\n",
       "      <td>23223.000000</td>\n",
       "      <td>17.248000</td>\n",
       "    </tr>\n",
       "    <tr>\n",
       "      <th>50%</th>\n",
       "      <td>4900.500000</td>\n",
       "      <td>58103.000000</td>\n",
       "      <td>54.490000</td>\n",
       "    </tr>\n",
       "    <tr>\n",
       "      <th>75%</th>\n",
       "      <td>7350.250000</td>\n",
       "      <td>90008.000000</td>\n",
       "      <td>210.605000</td>\n",
       "    </tr>\n",
       "    <tr>\n",
       "      <th>max</th>\n",
       "      <td>9800.000000</td>\n",
       "      <td>99301.000000</td>\n",
       "      <td>22638.480000</td>\n",
       "    </tr>\n",
       "  </tbody>\n",
       "</table>\n",
       "</div>"
      ],
      "text/plain": [
       "            Row ID   Postal Code         Sales\n",
       "count  9800.000000   9789.000000   9800.000000\n",
       "mean   4900.500000  55273.322403    230.769059\n",
       "std    2829.160653  32041.223413    626.651875\n",
       "min       1.000000   1040.000000      0.444000\n",
       "25%    2450.750000  23223.000000     17.248000\n",
       "50%    4900.500000  58103.000000     54.490000\n",
       "75%    7350.250000  90008.000000    210.605000\n",
       "max    9800.000000  99301.000000  22638.480000"
      ]
     },
     "execution_count": 62,
     "metadata": {},
     "output_type": "execute_result"
    }
   ],
   "source": [
    "df.describe()"
   ]
  },
  {
   "cell_type": "code",
   "execution_count": 63,
   "id": "653c6837-a44e-4a22-a093-703dd3cba2dc",
   "metadata": {},
   "outputs": [
    {
     "data": {
      "text/plain": [
       "Index(['Row ID', 'Order ID', 'Order Date', 'Ship Date', 'Ship Mode',\n",
       "       'Customer ID', 'Customer Name', 'Segment', 'Country', 'City', 'State',\n",
       "       'Postal Code', 'Region', 'Product ID', 'Category', 'Sub-Category',\n",
       "       'Product Name', 'Sales'],\n",
       "      dtype='object')"
      ]
     },
     "execution_count": 63,
     "metadata": {},
     "output_type": "execute_result"
    }
   ],
   "source": [
    "df.columns"
   ]
  },
  {
   "cell_type": "code",
   "execution_count": 64,
   "id": "cc5461a2-38f0-43b1-bbff-cfde4795160a",
   "metadata": {},
   "outputs": [
    {
     "data": {
      "application/vnd.microsoft.datawrangler.viewer.v0+json": {
       "columns": [
        {
         "name": "index",
         "rawType": "int64",
         "type": "integer"
        },
        {
         "name": "Sales",
         "rawType": "float64",
         "type": "float"
        }
       ],
       "ref": "5bfea483-7290-4e4b-bded-9237080af717",
       "rows": [
        [
         "0",
         "261.96"
        ],
        [
         "1",
         "731.94"
        ],
        [
         "2",
         "14.62"
        ],
        [
         "3",
         "957.5775"
        ],
        [
         "4",
         "22.368"
        ],
        [
         "5",
         "48.86"
        ],
        [
         "6",
         "7.28"
        ],
        [
         "7",
         "907.152"
        ],
        [
         "8",
         "18.504"
        ],
        [
         "9",
         "114.9"
        ],
        [
         "10",
         "1706.184"
        ],
        [
         "11",
         "911.424"
        ],
        [
         "12",
         "15.552"
        ],
        [
         "13",
         "407.976"
        ],
        [
         "14",
         "68.81"
        ],
        [
         "15",
         "2.544"
        ],
        [
         "16",
         "665.88"
        ],
        [
         "17",
         "55.5"
        ],
        [
         "18",
         "8.56"
        ],
        [
         "19",
         "213.48"
        ],
        [
         "20",
         "22.72"
        ],
        [
         "21",
         "19.46"
        ],
        [
         "22",
         "60.34"
        ],
        [
         "23",
         "71.372"
        ],
        [
         "24",
         "1044.63"
        ],
        [
         "25",
         "11.648"
        ],
        [
         "26",
         "90.57"
        ],
        [
         "27",
         "3083.43"
        ],
        [
         "28",
         "9.618"
        ],
        [
         "29",
         "124.2"
        ],
        [
         "30",
         "3.264"
        ],
        [
         "31",
         "86.304"
        ],
        [
         "32",
         "6.858"
        ],
        [
         "33",
         "15.76"
        ],
        [
         "34",
         "29.472"
        ],
        [
         "35",
         "1097.544"
        ],
        [
         "36",
         "190.92"
        ],
        [
         "37",
         "113.328"
        ],
        [
         "38",
         "532.3992"
        ],
        [
         "39",
         "212.058"
        ],
        [
         "40",
         "371.168"
        ],
        [
         "41",
         "147.168"
        ],
        [
         "42",
         "77.88"
        ],
        [
         "43",
         "95.616"
        ],
        [
         "44",
         "45.98"
        ],
        [
         "45",
         "17.46"
        ],
        [
         "46",
         "211.96"
        ],
        [
         "47",
         "45.0"
        ],
        [
         "48",
         "21.8"
        ],
        [
         "49",
         "38.22"
        ]
       ],
       "shape": {
        "columns": 1,
        "rows": 9800
       }
      },
      "text/plain": [
       "0       261.9600\n",
       "1       731.9400\n",
       "2        14.6200\n",
       "3       957.5775\n",
       "4        22.3680\n",
       "          ...   \n",
       "9795      3.7980\n",
       "9796     10.3680\n",
       "9797    235.1880\n",
       "9798     26.3760\n",
       "9799     10.3840\n",
       "Name: Sales, Length: 9800, dtype: float64"
      ]
     },
     "execution_count": 64,
     "metadata": {},
     "output_type": "execute_result"
    }
   ],
   "source": [
    "df[\"Sales\"]"
   ]
  },
  {
   "cell_type": "code",
   "execution_count": 65,
   "id": "f6c4cc6e-ea2f-422f-ae2c-def4d7ea25d1",
   "metadata": {},
   "outputs": [
    {
     "data": {
      "application/vnd.microsoft.datawrangler.viewer.v0+json": {
       "columns": [
        {
         "name": "index",
         "rawType": "int64",
         "type": "integer"
        },
        {
         "name": "Row ID",
         "rawType": "int64",
         "type": "integer"
        },
        {
         "name": "Order ID",
         "rawType": "object",
         "type": "string"
        },
        {
         "name": "Order Date",
         "rawType": "object",
         "type": "string"
        },
        {
         "name": "Ship Date",
         "rawType": "object",
         "type": "string"
        },
        {
         "name": "Ship Mode",
         "rawType": "object",
         "type": "string"
        },
        {
         "name": "Customer ID",
         "rawType": "object",
         "type": "string"
        },
        {
         "name": "Customer Name",
         "rawType": "object",
         "type": "string"
        },
        {
         "name": "Segment",
         "rawType": "object",
         "type": "string"
        },
        {
         "name": "Country",
         "rawType": "object",
         "type": "string"
        },
        {
         "name": "City",
         "rawType": "object",
         "type": "string"
        },
        {
         "name": "State",
         "rawType": "object",
         "type": "string"
        },
        {
         "name": "Postal Code",
         "rawType": "float64",
         "type": "float"
        },
        {
         "name": "Region",
         "rawType": "object",
         "type": "string"
        },
        {
         "name": "Product ID",
         "rawType": "object",
         "type": "string"
        },
        {
         "name": "Category",
         "rawType": "object",
         "type": "string"
        },
        {
         "name": "Sub-Category",
         "rawType": "object",
         "type": "string"
        },
        {
         "name": "Product Name",
         "rawType": "object",
         "type": "string"
        },
        {
         "name": "Sales",
         "rawType": "float64",
         "type": "float"
        }
       ],
       "ref": "942f50d5-0a93-4cdc-a233-68e1e2190554",
       "rows": [
        [
         "165",
         "166",
         "CA-2015-139892",
         "08/09/2015",
         "12/09/2015",
         "Standard Class",
         "BM-11140",
         "Becky Martin",
         "Consumer",
         "United States",
         "San Antonio",
         "Texas",
         "78207.0",
         "Central",
         "TEC-MA-10000822",
         "Technology",
         "Machines",
         "Lexmark MX611dhe Monochrome Laser Printer",
         "8159.952"
        ],
        [
         "509",
         "510",
         "CA-2016-145352",
         "16/03/2016",
         "22/03/2016",
         "Standard Class",
         "CM-12385",
         "Christopher Martinez",
         "Consumer",
         "United States",
         "Atlanta",
         "Georgia",
         "30318.0",
         "South",
         "OFF-BI-10003527",
         "Office Supplies",
         "Binders",
         "Fellowes PB500 Electric Punch Plastic Comb Binding Machine with Manual Bind",
         "6354.95"
        ],
        [
         "683",
         "684",
         "US-2018-168116",
         "04/11/2018",
         "04/11/2018",
         "Same Day",
         "GT-14635",
         "Grant Thornton",
         "Corporate",
         "United States",
         "Burlington",
         "North Carolina",
         "27217.0",
         "South",
         "TEC-MA-10004125",
         "Technology",
         "Machines",
         "Cubify CubeX 3D Printer Triple Head Print",
         "7999.98"
        ],
        [
         "2505",
         "2506",
         "CA-2015-143917",
         "25/07/2015",
         "27/07/2015",
         "Second Class",
         "KL-16645",
         "Ken Lonsdale",
         "Consumer",
         "United States",
         "San Francisco",
         "California",
         "94122.0",
         "West",
         "OFF-SU-10000151",
         "Office Supplies",
         "Supplies",
         "High Speed Automatic Electric Letter Opener",
         "8187.65"
        ],
        [
         "2623",
         "2624",
         "CA-2018-127180",
         "22/10/2018",
         "24/10/2018",
         "First Class",
         "TA-21385",
         "Tom Ashbrook",
         "Home Office",
         "United States",
         "New York City",
         "New York",
         "10024.0",
         "East",
         "TEC-CO-10004722",
         "Technology",
         "Copiers",
         "Canon imageCLASS 2200 Advanced Copier",
         "11199.968"
        ],
        [
         "2697",
         "2698",
         "CA-2015-145317",
         "18/03/2015",
         "23/03/2015",
         "Standard Class",
         "SM-20320",
         "Sean Miller",
         "Home Office",
         "United States",
         "Jacksonville",
         "Florida",
         "32216.0",
         "South",
         "TEC-MA-10002412",
         "Technology",
         "Machines",
         "Cisco TelePresence System EX90 Videoconferencing Unit",
         "22638.48"
        ],
        [
         "4098",
         "4099",
         "CA-2015-116904",
         "23/09/2015",
         "28/09/2015",
         "Standard Class",
         "SC-20095",
         "Sanjit Chand",
         "Consumer",
         "United States",
         "Minneapolis",
         "Minnesota",
         "55407.0",
         "Central",
         "OFF-BI-10001120",
         "Office Supplies",
         "Binders",
         "Ibico EPK-21 Electric Binding System",
         "9449.95"
        ],
        [
         "4190",
         "4191",
         "CA-2018-166709",
         "17/11/2018",
         "22/11/2018",
         "Standard Class",
         "HL-15040",
         "Hunter Lopez",
         "Consumer",
         "United States",
         "Newark",
         "Delaware",
         "19711.0",
         "East",
         "TEC-CO-10004722",
         "Technology",
         "Copiers",
         "Canon imageCLASS 2200 Advanced Copier",
         "10499.97"
        ],
        [
         "4277",
         "4278",
         "US-2017-107440",
         "16/04/2017",
         "20/04/2017",
         "Standard Class",
         "BS-11365",
         "Bill Shonely",
         "Corporate",
         "United States",
         "Lakewood",
         "New Jersey",
         "8701.0",
         "East",
         "TEC-MA-10001047",
         "Technology",
         "Machines",
         "3D Systems Cube Printer, 2nd Generation, Magenta",
         "9099.93"
        ],
        [
         "6340",
         "6341",
         "CA-2018-143112",
         "05/10/2018",
         "09/10/2018",
         "Standard Class",
         "TS-21370",
         "Todd Sumrall",
         "Corporate",
         "United States",
         "New York City",
         "New York",
         "10035.0",
         "East",
         "TEC-MA-10001047",
         "Technology",
         "Machines",
         "3D Systems Cube Printer, 2nd Generation, Magenta",
         "5199.96"
        ],
        [
         "6425",
         "6426",
         "CA-2017-143714",
         "23/05/2017",
         "27/05/2017",
         "Standard Class",
         "CC-12370",
         "Christopher Conant",
         "Consumer",
         "United States",
         "Philadelphia",
         "Pennsylvania",
         "19120.0",
         "East",
         "TEC-CO-10004722",
         "Technology",
         "Copiers",
         "Canon imageCLASS 2200 Advanced Copier",
         "8399.976"
        ],
        [
         "6520",
         "6521",
         "CA-2018-138289",
         "16/01/2018",
         "18/01/2018",
         "Second Class",
         "AR-10540",
         "Andy Reiter",
         "Consumer",
         "United States",
         "Jackson",
         "Michigan",
         "49201.0",
         "Central",
         "OFF-BI-10004995",
         "Office Supplies",
         "Binders",
         "GBC DocuBind P400 Electric Binding System",
         "5443.96"
        ],
        [
         "6626",
         "6627",
         "CA-2015-145541",
         "14/12/2015",
         "21/12/2015",
         "Standard Class",
         "TB-21400",
         "Tom Boeckenhauer",
         "Consumer",
         "United States",
         "New York City",
         "New York",
         "10024.0",
         "East",
         "TEC-MA-10001127",
         "Technology",
         "Machines",
         "HP Designjet T520 Inkjet Large Format Printer - 24\" Color",
         "6999.96"
        ],
        [
         "6826",
         "6827",
         "CA-2017-118689",
         "02/10/2017",
         "09/10/2017",
         "Standard Class",
         "TC-20980",
         "Tamara Chand",
         "Corporate",
         "United States",
         "Lafayette",
         "Indiana",
         "47905.0",
         "Central",
         "TEC-CO-10004722",
         "Technology",
         "Copiers",
         "Canon imageCLASS 2200 Advanced Copier",
         "17499.95"
        ],
        [
         "7666",
         "7667",
         "US-2017-140158",
         "04/10/2017",
         "08/10/2017",
         "Standard Class",
         "DR-12940",
         "Daniel Raglin",
         "Home Office",
         "United States",
         "Providence",
         "Rhode Island",
         "2908.0",
         "East",
         "TEC-CO-10001449",
         "Technology",
         "Copiers",
         "Hewlett Packard LaserJet 3310 Copier",
         "5399.91"
        ],
        [
         "8153",
         "8154",
         "CA-2018-140151",
         "23/03/2018",
         "25/03/2018",
         "First Class",
         "RB-19360",
         "Raymond Buch",
         "Consumer",
         "United States",
         "Seattle",
         "Washington",
         "98115.0",
         "West",
         "TEC-CO-10004722",
         "Technology",
         "Copiers",
         "Canon imageCLASS 2200 Advanced Copier",
         "13999.96"
        ],
        [
         "8488",
         "8489",
         "CA-2017-158841",
         "02/02/2017",
         "04/02/2017",
         "Second Class",
         "SE-20110",
         "Sanjit Engle",
         "Consumer",
         "United States",
         "Arlington",
         "Virginia",
         "22204.0",
         "South",
         "TEC-MA-10001127",
         "Technology",
         "Machines",
         "HP Designjet T520 Inkjet Large Format Printer - 24\" Color",
         "8749.95"
        ],
        [
         "8858",
         "8859",
         "CA-2018-135909",
         "13/10/2018",
         "20/10/2018",
         "Standard Class",
         "JW-15220",
         "Jane Waco",
         "Corporate",
         "United States",
         "Sacramento",
         "California",
         "95823.0",
         "West",
         "OFF-BI-10003527",
         "Office Supplies",
         "Binders",
         "Fellowes PB500 Electric Punch Plastic Comb Binding Machine with Manual Bind",
         "5083.96"
        ],
        [
         "9039",
         "9040",
         "CA-2017-117121",
         "17/12/2017",
         "21/12/2017",
         "Standard Class",
         "AB-10105",
         "Adrian Barton",
         "Consumer",
         "United States",
         "Detroit",
         "Michigan",
         "48205.0",
         "Central",
         "OFF-BI-10000545",
         "Office Supplies",
         "Binders",
         "GBC Ibimaster 500 Manual ProClick Binding System",
         "9892.74"
        ]
       ],
       "shape": {
        "columns": 18,
        "rows": 19
       }
      },
      "text/html": [
       "<div>\n",
       "<style scoped>\n",
       "    .dataframe tbody tr th:only-of-type {\n",
       "        vertical-align: middle;\n",
       "    }\n",
       "\n",
       "    .dataframe tbody tr th {\n",
       "        vertical-align: top;\n",
       "    }\n",
       "\n",
       "    .dataframe thead th {\n",
       "        text-align: right;\n",
       "    }\n",
       "</style>\n",
       "<table border=\"1\" class=\"dataframe\">\n",
       "  <thead>\n",
       "    <tr style=\"text-align: right;\">\n",
       "      <th></th>\n",
       "      <th>Row ID</th>\n",
       "      <th>Order ID</th>\n",
       "      <th>Order Date</th>\n",
       "      <th>Ship Date</th>\n",
       "      <th>Ship Mode</th>\n",
       "      <th>Customer ID</th>\n",
       "      <th>Customer Name</th>\n",
       "      <th>Segment</th>\n",
       "      <th>Country</th>\n",
       "      <th>City</th>\n",
       "      <th>State</th>\n",
       "      <th>Postal Code</th>\n",
       "      <th>Region</th>\n",
       "      <th>Product ID</th>\n",
       "      <th>Category</th>\n",
       "      <th>Sub-Category</th>\n",
       "      <th>Product Name</th>\n",
       "      <th>Sales</th>\n",
       "    </tr>\n",
       "  </thead>\n",
       "  <tbody>\n",
       "    <tr>\n",
       "      <th>165</th>\n",
       "      <td>166</td>\n",
       "      <td>CA-2015-139892</td>\n",
       "      <td>08/09/2015</td>\n",
       "      <td>12/09/2015</td>\n",
       "      <td>Standard Class</td>\n",
       "      <td>BM-11140</td>\n",
       "      <td>Becky Martin</td>\n",
       "      <td>Consumer</td>\n",
       "      <td>United States</td>\n",
       "      <td>San Antonio</td>\n",
       "      <td>Texas</td>\n",
       "      <td>78207.0</td>\n",
       "      <td>Central</td>\n",
       "      <td>TEC-MA-10000822</td>\n",
       "      <td>Technology</td>\n",
       "      <td>Machines</td>\n",
       "      <td>Lexmark MX611dhe Monochrome Laser Printer</td>\n",
       "      <td>8159.952</td>\n",
       "    </tr>\n",
       "    <tr>\n",
       "      <th>509</th>\n",
       "      <td>510</td>\n",
       "      <td>CA-2016-145352</td>\n",
       "      <td>16/03/2016</td>\n",
       "      <td>22/03/2016</td>\n",
       "      <td>Standard Class</td>\n",
       "      <td>CM-12385</td>\n",
       "      <td>Christopher Martinez</td>\n",
       "      <td>Consumer</td>\n",
       "      <td>United States</td>\n",
       "      <td>Atlanta</td>\n",
       "      <td>Georgia</td>\n",
       "      <td>30318.0</td>\n",
       "      <td>South</td>\n",
       "      <td>OFF-BI-10003527</td>\n",
       "      <td>Office Supplies</td>\n",
       "      <td>Binders</td>\n",
       "      <td>Fellowes PB500 Electric Punch Plastic Comb Bin...</td>\n",
       "      <td>6354.950</td>\n",
       "    </tr>\n",
       "    <tr>\n",
       "      <th>683</th>\n",
       "      <td>684</td>\n",
       "      <td>US-2018-168116</td>\n",
       "      <td>04/11/2018</td>\n",
       "      <td>04/11/2018</td>\n",
       "      <td>Same Day</td>\n",
       "      <td>GT-14635</td>\n",
       "      <td>Grant Thornton</td>\n",
       "      <td>Corporate</td>\n",
       "      <td>United States</td>\n",
       "      <td>Burlington</td>\n",
       "      <td>North Carolina</td>\n",
       "      <td>27217.0</td>\n",
       "      <td>South</td>\n",
       "      <td>TEC-MA-10004125</td>\n",
       "      <td>Technology</td>\n",
       "      <td>Machines</td>\n",
       "      <td>Cubify CubeX 3D Printer Triple Head Print</td>\n",
       "      <td>7999.980</td>\n",
       "    </tr>\n",
       "    <tr>\n",
       "      <th>2505</th>\n",
       "      <td>2506</td>\n",
       "      <td>CA-2015-143917</td>\n",
       "      <td>25/07/2015</td>\n",
       "      <td>27/07/2015</td>\n",
       "      <td>Second Class</td>\n",
       "      <td>KL-16645</td>\n",
       "      <td>Ken Lonsdale</td>\n",
       "      <td>Consumer</td>\n",
       "      <td>United States</td>\n",
       "      <td>San Francisco</td>\n",
       "      <td>California</td>\n",
       "      <td>94122.0</td>\n",
       "      <td>West</td>\n",
       "      <td>OFF-SU-10000151</td>\n",
       "      <td>Office Supplies</td>\n",
       "      <td>Supplies</td>\n",
       "      <td>High Speed Automatic Electric Letter Opener</td>\n",
       "      <td>8187.650</td>\n",
       "    </tr>\n",
       "    <tr>\n",
       "      <th>2623</th>\n",
       "      <td>2624</td>\n",
       "      <td>CA-2018-127180</td>\n",
       "      <td>22/10/2018</td>\n",
       "      <td>24/10/2018</td>\n",
       "      <td>First Class</td>\n",
       "      <td>TA-21385</td>\n",
       "      <td>Tom Ashbrook</td>\n",
       "      <td>Home Office</td>\n",
       "      <td>United States</td>\n",
       "      <td>New York City</td>\n",
       "      <td>New York</td>\n",
       "      <td>10024.0</td>\n",
       "      <td>East</td>\n",
       "      <td>TEC-CO-10004722</td>\n",
       "      <td>Technology</td>\n",
       "      <td>Copiers</td>\n",
       "      <td>Canon imageCLASS 2200 Advanced Copier</td>\n",
       "      <td>11199.968</td>\n",
       "    </tr>\n",
       "    <tr>\n",
       "      <th>2697</th>\n",
       "      <td>2698</td>\n",
       "      <td>CA-2015-145317</td>\n",
       "      <td>18/03/2015</td>\n",
       "      <td>23/03/2015</td>\n",
       "      <td>Standard Class</td>\n",
       "      <td>SM-20320</td>\n",
       "      <td>Sean Miller</td>\n",
       "      <td>Home Office</td>\n",
       "      <td>United States</td>\n",
       "      <td>Jacksonville</td>\n",
       "      <td>Florida</td>\n",
       "      <td>32216.0</td>\n",
       "      <td>South</td>\n",
       "      <td>TEC-MA-10002412</td>\n",
       "      <td>Technology</td>\n",
       "      <td>Machines</td>\n",
       "      <td>Cisco TelePresence System EX90 Videoconferenci...</td>\n",
       "      <td>22638.480</td>\n",
       "    </tr>\n",
       "    <tr>\n",
       "      <th>4098</th>\n",
       "      <td>4099</td>\n",
       "      <td>CA-2015-116904</td>\n",
       "      <td>23/09/2015</td>\n",
       "      <td>28/09/2015</td>\n",
       "      <td>Standard Class</td>\n",
       "      <td>SC-20095</td>\n",
       "      <td>Sanjit Chand</td>\n",
       "      <td>Consumer</td>\n",
       "      <td>United States</td>\n",
       "      <td>Minneapolis</td>\n",
       "      <td>Minnesota</td>\n",
       "      <td>55407.0</td>\n",
       "      <td>Central</td>\n",
       "      <td>OFF-BI-10001120</td>\n",
       "      <td>Office Supplies</td>\n",
       "      <td>Binders</td>\n",
       "      <td>Ibico EPK-21 Electric Binding System</td>\n",
       "      <td>9449.950</td>\n",
       "    </tr>\n",
       "    <tr>\n",
       "      <th>4190</th>\n",
       "      <td>4191</td>\n",
       "      <td>CA-2018-166709</td>\n",
       "      <td>17/11/2018</td>\n",
       "      <td>22/11/2018</td>\n",
       "      <td>Standard Class</td>\n",
       "      <td>HL-15040</td>\n",
       "      <td>Hunter Lopez</td>\n",
       "      <td>Consumer</td>\n",
       "      <td>United States</td>\n",
       "      <td>Newark</td>\n",
       "      <td>Delaware</td>\n",
       "      <td>19711.0</td>\n",
       "      <td>East</td>\n",
       "      <td>TEC-CO-10004722</td>\n",
       "      <td>Technology</td>\n",
       "      <td>Copiers</td>\n",
       "      <td>Canon imageCLASS 2200 Advanced Copier</td>\n",
       "      <td>10499.970</td>\n",
       "    </tr>\n",
       "    <tr>\n",
       "      <th>4277</th>\n",
       "      <td>4278</td>\n",
       "      <td>US-2017-107440</td>\n",
       "      <td>16/04/2017</td>\n",
       "      <td>20/04/2017</td>\n",
       "      <td>Standard Class</td>\n",
       "      <td>BS-11365</td>\n",
       "      <td>Bill Shonely</td>\n",
       "      <td>Corporate</td>\n",
       "      <td>United States</td>\n",
       "      <td>Lakewood</td>\n",
       "      <td>New Jersey</td>\n",
       "      <td>8701.0</td>\n",
       "      <td>East</td>\n",
       "      <td>TEC-MA-10001047</td>\n",
       "      <td>Technology</td>\n",
       "      <td>Machines</td>\n",
       "      <td>3D Systems Cube Printer, 2nd Generation, Magenta</td>\n",
       "      <td>9099.930</td>\n",
       "    </tr>\n",
       "    <tr>\n",
       "      <th>6340</th>\n",
       "      <td>6341</td>\n",
       "      <td>CA-2018-143112</td>\n",
       "      <td>05/10/2018</td>\n",
       "      <td>09/10/2018</td>\n",
       "      <td>Standard Class</td>\n",
       "      <td>TS-21370</td>\n",
       "      <td>Todd Sumrall</td>\n",
       "      <td>Corporate</td>\n",
       "      <td>United States</td>\n",
       "      <td>New York City</td>\n",
       "      <td>New York</td>\n",
       "      <td>10035.0</td>\n",
       "      <td>East</td>\n",
       "      <td>TEC-MA-10001047</td>\n",
       "      <td>Technology</td>\n",
       "      <td>Machines</td>\n",
       "      <td>3D Systems Cube Printer, 2nd Generation, Magenta</td>\n",
       "      <td>5199.960</td>\n",
       "    </tr>\n",
       "    <tr>\n",
       "      <th>6425</th>\n",
       "      <td>6426</td>\n",
       "      <td>CA-2017-143714</td>\n",
       "      <td>23/05/2017</td>\n",
       "      <td>27/05/2017</td>\n",
       "      <td>Standard Class</td>\n",
       "      <td>CC-12370</td>\n",
       "      <td>Christopher Conant</td>\n",
       "      <td>Consumer</td>\n",
       "      <td>United States</td>\n",
       "      <td>Philadelphia</td>\n",
       "      <td>Pennsylvania</td>\n",
       "      <td>19120.0</td>\n",
       "      <td>East</td>\n",
       "      <td>TEC-CO-10004722</td>\n",
       "      <td>Technology</td>\n",
       "      <td>Copiers</td>\n",
       "      <td>Canon imageCLASS 2200 Advanced Copier</td>\n",
       "      <td>8399.976</td>\n",
       "    </tr>\n",
       "    <tr>\n",
       "      <th>6520</th>\n",
       "      <td>6521</td>\n",
       "      <td>CA-2018-138289</td>\n",
       "      <td>16/01/2018</td>\n",
       "      <td>18/01/2018</td>\n",
       "      <td>Second Class</td>\n",
       "      <td>AR-10540</td>\n",
       "      <td>Andy Reiter</td>\n",
       "      <td>Consumer</td>\n",
       "      <td>United States</td>\n",
       "      <td>Jackson</td>\n",
       "      <td>Michigan</td>\n",
       "      <td>49201.0</td>\n",
       "      <td>Central</td>\n",
       "      <td>OFF-BI-10004995</td>\n",
       "      <td>Office Supplies</td>\n",
       "      <td>Binders</td>\n",
       "      <td>GBC DocuBind P400 Electric Binding System</td>\n",
       "      <td>5443.960</td>\n",
       "    </tr>\n",
       "    <tr>\n",
       "      <th>6626</th>\n",
       "      <td>6627</td>\n",
       "      <td>CA-2015-145541</td>\n",
       "      <td>14/12/2015</td>\n",
       "      <td>21/12/2015</td>\n",
       "      <td>Standard Class</td>\n",
       "      <td>TB-21400</td>\n",
       "      <td>Tom Boeckenhauer</td>\n",
       "      <td>Consumer</td>\n",
       "      <td>United States</td>\n",
       "      <td>New York City</td>\n",
       "      <td>New York</td>\n",
       "      <td>10024.0</td>\n",
       "      <td>East</td>\n",
       "      <td>TEC-MA-10001127</td>\n",
       "      <td>Technology</td>\n",
       "      <td>Machines</td>\n",
       "      <td>HP Designjet T520 Inkjet Large Format Printer ...</td>\n",
       "      <td>6999.960</td>\n",
       "    </tr>\n",
       "    <tr>\n",
       "      <th>6826</th>\n",
       "      <td>6827</td>\n",
       "      <td>CA-2017-118689</td>\n",
       "      <td>02/10/2017</td>\n",
       "      <td>09/10/2017</td>\n",
       "      <td>Standard Class</td>\n",
       "      <td>TC-20980</td>\n",
       "      <td>Tamara Chand</td>\n",
       "      <td>Corporate</td>\n",
       "      <td>United States</td>\n",
       "      <td>Lafayette</td>\n",
       "      <td>Indiana</td>\n",
       "      <td>47905.0</td>\n",
       "      <td>Central</td>\n",
       "      <td>TEC-CO-10004722</td>\n",
       "      <td>Technology</td>\n",
       "      <td>Copiers</td>\n",
       "      <td>Canon imageCLASS 2200 Advanced Copier</td>\n",
       "      <td>17499.950</td>\n",
       "    </tr>\n",
       "    <tr>\n",
       "      <th>7666</th>\n",
       "      <td>7667</td>\n",
       "      <td>US-2017-140158</td>\n",
       "      <td>04/10/2017</td>\n",
       "      <td>08/10/2017</td>\n",
       "      <td>Standard Class</td>\n",
       "      <td>DR-12940</td>\n",
       "      <td>Daniel Raglin</td>\n",
       "      <td>Home Office</td>\n",
       "      <td>United States</td>\n",
       "      <td>Providence</td>\n",
       "      <td>Rhode Island</td>\n",
       "      <td>2908.0</td>\n",
       "      <td>East</td>\n",
       "      <td>TEC-CO-10001449</td>\n",
       "      <td>Technology</td>\n",
       "      <td>Copiers</td>\n",
       "      <td>Hewlett Packard LaserJet 3310 Copier</td>\n",
       "      <td>5399.910</td>\n",
       "    </tr>\n",
       "    <tr>\n",
       "      <th>8153</th>\n",
       "      <td>8154</td>\n",
       "      <td>CA-2018-140151</td>\n",
       "      <td>23/03/2018</td>\n",
       "      <td>25/03/2018</td>\n",
       "      <td>First Class</td>\n",
       "      <td>RB-19360</td>\n",
       "      <td>Raymond Buch</td>\n",
       "      <td>Consumer</td>\n",
       "      <td>United States</td>\n",
       "      <td>Seattle</td>\n",
       "      <td>Washington</td>\n",
       "      <td>98115.0</td>\n",
       "      <td>West</td>\n",
       "      <td>TEC-CO-10004722</td>\n",
       "      <td>Technology</td>\n",
       "      <td>Copiers</td>\n",
       "      <td>Canon imageCLASS 2200 Advanced Copier</td>\n",
       "      <td>13999.960</td>\n",
       "    </tr>\n",
       "    <tr>\n",
       "      <th>8488</th>\n",
       "      <td>8489</td>\n",
       "      <td>CA-2017-158841</td>\n",
       "      <td>02/02/2017</td>\n",
       "      <td>04/02/2017</td>\n",
       "      <td>Second Class</td>\n",
       "      <td>SE-20110</td>\n",
       "      <td>Sanjit Engle</td>\n",
       "      <td>Consumer</td>\n",
       "      <td>United States</td>\n",
       "      <td>Arlington</td>\n",
       "      <td>Virginia</td>\n",
       "      <td>22204.0</td>\n",
       "      <td>South</td>\n",
       "      <td>TEC-MA-10001127</td>\n",
       "      <td>Technology</td>\n",
       "      <td>Machines</td>\n",
       "      <td>HP Designjet T520 Inkjet Large Format Printer ...</td>\n",
       "      <td>8749.950</td>\n",
       "    </tr>\n",
       "    <tr>\n",
       "      <th>8858</th>\n",
       "      <td>8859</td>\n",
       "      <td>CA-2018-135909</td>\n",
       "      <td>13/10/2018</td>\n",
       "      <td>20/10/2018</td>\n",
       "      <td>Standard Class</td>\n",
       "      <td>JW-15220</td>\n",
       "      <td>Jane Waco</td>\n",
       "      <td>Corporate</td>\n",
       "      <td>United States</td>\n",
       "      <td>Sacramento</td>\n",
       "      <td>California</td>\n",
       "      <td>95823.0</td>\n",
       "      <td>West</td>\n",
       "      <td>OFF-BI-10003527</td>\n",
       "      <td>Office Supplies</td>\n",
       "      <td>Binders</td>\n",
       "      <td>Fellowes PB500 Electric Punch Plastic Comb Bin...</td>\n",
       "      <td>5083.960</td>\n",
       "    </tr>\n",
       "    <tr>\n",
       "      <th>9039</th>\n",
       "      <td>9040</td>\n",
       "      <td>CA-2017-117121</td>\n",
       "      <td>17/12/2017</td>\n",
       "      <td>21/12/2017</td>\n",
       "      <td>Standard Class</td>\n",
       "      <td>AB-10105</td>\n",
       "      <td>Adrian Barton</td>\n",
       "      <td>Consumer</td>\n",
       "      <td>United States</td>\n",
       "      <td>Detroit</td>\n",
       "      <td>Michigan</td>\n",
       "      <td>48205.0</td>\n",
       "      <td>Central</td>\n",
       "      <td>OFF-BI-10000545</td>\n",
       "      <td>Office Supplies</td>\n",
       "      <td>Binders</td>\n",
       "      <td>GBC Ibimaster 500 Manual ProClick Binding System</td>\n",
       "      <td>9892.740</td>\n",
       "    </tr>\n",
       "  </tbody>\n",
       "</table>\n",
       "</div>"
      ],
      "text/plain": [
       "      Row ID        Order ID  Order Date   Ship Date       Ship Mode  \\\n",
       "165      166  CA-2015-139892  08/09/2015  12/09/2015  Standard Class   \n",
       "509      510  CA-2016-145352  16/03/2016  22/03/2016  Standard Class   \n",
       "683      684  US-2018-168116  04/11/2018  04/11/2018        Same Day   \n",
       "2505    2506  CA-2015-143917  25/07/2015  27/07/2015    Second Class   \n",
       "2623    2624  CA-2018-127180  22/10/2018  24/10/2018     First Class   \n",
       "2697    2698  CA-2015-145317  18/03/2015  23/03/2015  Standard Class   \n",
       "4098    4099  CA-2015-116904  23/09/2015  28/09/2015  Standard Class   \n",
       "4190    4191  CA-2018-166709  17/11/2018  22/11/2018  Standard Class   \n",
       "4277    4278  US-2017-107440  16/04/2017  20/04/2017  Standard Class   \n",
       "6340    6341  CA-2018-143112  05/10/2018  09/10/2018  Standard Class   \n",
       "6425    6426  CA-2017-143714  23/05/2017  27/05/2017  Standard Class   \n",
       "6520    6521  CA-2018-138289  16/01/2018  18/01/2018    Second Class   \n",
       "6626    6627  CA-2015-145541  14/12/2015  21/12/2015  Standard Class   \n",
       "6826    6827  CA-2017-118689  02/10/2017  09/10/2017  Standard Class   \n",
       "7666    7667  US-2017-140158  04/10/2017  08/10/2017  Standard Class   \n",
       "8153    8154  CA-2018-140151  23/03/2018  25/03/2018     First Class   \n",
       "8488    8489  CA-2017-158841  02/02/2017  04/02/2017    Second Class   \n",
       "8858    8859  CA-2018-135909  13/10/2018  20/10/2018  Standard Class   \n",
       "9039    9040  CA-2017-117121  17/12/2017  21/12/2017  Standard Class   \n",
       "\n",
       "     Customer ID         Customer Name      Segment        Country  \\\n",
       "165     BM-11140          Becky Martin     Consumer  United States   \n",
       "509     CM-12385  Christopher Martinez     Consumer  United States   \n",
       "683     GT-14635        Grant Thornton    Corporate  United States   \n",
       "2505    KL-16645          Ken Lonsdale     Consumer  United States   \n",
       "2623    TA-21385          Tom Ashbrook  Home Office  United States   \n",
       "2697    SM-20320           Sean Miller  Home Office  United States   \n",
       "4098    SC-20095          Sanjit Chand     Consumer  United States   \n",
       "4190    HL-15040          Hunter Lopez     Consumer  United States   \n",
       "4277    BS-11365          Bill Shonely    Corporate  United States   \n",
       "6340    TS-21370          Todd Sumrall    Corporate  United States   \n",
       "6425    CC-12370    Christopher Conant     Consumer  United States   \n",
       "6520    AR-10540           Andy Reiter     Consumer  United States   \n",
       "6626    TB-21400      Tom Boeckenhauer     Consumer  United States   \n",
       "6826    TC-20980          Tamara Chand    Corporate  United States   \n",
       "7666    DR-12940         Daniel Raglin  Home Office  United States   \n",
       "8153    RB-19360          Raymond Buch     Consumer  United States   \n",
       "8488    SE-20110          Sanjit Engle     Consumer  United States   \n",
       "8858    JW-15220             Jane Waco    Corporate  United States   \n",
       "9039    AB-10105         Adrian Barton     Consumer  United States   \n",
       "\n",
       "               City           State  Postal Code   Region       Product ID  \\\n",
       "165     San Antonio           Texas      78207.0  Central  TEC-MA-10000822   \n",
       "509         Atlanta         Georgia      30318.0    South  OFF-BI-10003527   \n",
       "683      Burlington  North Carolina      27217.0    South  TEC-MA-10004125   \n",
       "2505  San Francisco      California      94122.0     West  OFF-SU-10000151   \n",
       "2623  New York City        New York      10024.0     East  TEC-CO-10004722   \n",
       "2697   Jacksonville         Florida      32216.0    South  TEC-MA-10002412   \n",
       "4098    Minneapolis       Minnesota      55407.0  Central  OFF-BI-10001120   \n",
       "4190         Newark        Delaware      19711.0     East  TEC-CO-10004722   \n",
       "4277       Lakewood      New Jersey       8701.0     East  TEC-MA-10001047   \n",
       "6340  New York City        New York      10035.0     East  TEC-MA-10001047   \n",
       "6425   Philadelphia    Pennsylvania      19120.0     East  TEC-CO-10004722   \n",
       "6520        Jackson        Michigan      49201.0  Central  OFF-BI-10004995   \n",
       "6626  New York City        New York      10024.0     East  TEC-MA-10001127   \n",
       "6826      Lafayette         Indiana      47905.0  Central  TEC-CO-10004722   \n",
       "7666     Providence    Rhode Island       2908.0     East  TEC-CO-10001449   \n",
       "8153        Seattle      Washington      98115.0     West  TEC-CO-10004722   \n",
       "8488      Arlington        Virginia      22204.0    South  TEC-MA-10001127   \n",
       "8858     Sacramento      California      95823.0     West  OFF-BI-10003527   \n",
       "9039        Detroit        Michigan      48205.0  Central  OFF-BI-10000545   \n",
       "\n",
       "             Category Sub-Category  \\\n",
       "165        Technology     Machines   \n",
       "509   Office Supplies      Binders   \n",
       "683        Technology     Machines   \n",
       "2505  Office Supplies     Supplies   \n",
       "2623       Technology      Copiers   \n",
       "2697       Technology     Machines   \n",
       "4098  Office Supplies      Binders   \n",
       "4190       Technology      Copiers   \n",
       "4277       Technology     Machines   \n",
       "6340       Technology     Machines   \n",
       "6425       Technology      Copiers   \n",
       "6520  Office Supplies      Binders   \n",
       "6626       Technology     Machines   \n",
       "6826       Technology      Copiers   \n",
       "7666       Technology      Copiers   \n",
       "8153       Technology      Copiers   \n",
       "8488       Technology     Machines   \n",
       "8858  Office Supplies      Binders   \n",
       "9039  Office Supplies      Binders   \n",
       "\n",
       "                                           Product Name      Sales  \n",
       "165           Lexmark MX611dhe Monochrome Laser Printer   8159.952  \n",
       "509   Fellowes PB500 Electric Punch Plastic Comb Bin...   6354.950  \n",
       "683           Cubify CubeX 3D Printer Triple Head Print   7999.980  \n",
       "2505        High Speed Automatic Electric Letter Opener   8187.650  \n",
       "2623              Canon imageCLASS 2200 Advanced Copier  11199.968  \n",
       "2697  Cisco TelePresence System EX90 Videoconferenci...  22638.480  \n",
       "4098               Ibico EPK-21 Electric Binding System   9449.950  \n",
       "4190              Canon imageCLASS 2200 Advanced Copier  10499.970  \n",
       "4277   3D Systems Cube Printer, 2nd Generation, Magenta   9099.930  \n",
       "6340   3D Systems Cube Printer, 2nd Generation, Magenta   5199.960  \n",
       "6425              Canon imageCLASS 2200 Advanced Copier   8399.976  \n",
       "6520          GBC DocuBind P400 Electric Binding System   5443.960  \n",
       "6626  HP Designjet T520 Inkjet Large Format Printer ...   6999.960  \n",
       "6826              Canon imageCLASS 2200 Advanced Copier  17499.950  \n",
       "7666               Hewlett Packard LaserJet 3310 Copier   5399.910  \n",
       "8153              Canon imageCLASS 2200 Advanced Copier  13999.960  \n",
       "8488  HP Designjet T520 Inkjet Large Format Printer ...   8749.950  \n",
       "8858  Fellowes PB500 Electric Punch Plastic Comb Bin...   5083.960  \n",
       "9039   GBC Ibimaster 500 Manual ProClick Binding System   9892.740  "
      ]
     },
     "execution_count": 65,
     "metadata": {},
     "output_type": "execute_result"
    }
   ],
   "source": [
    "df[df['Sales'] > 5000]"
   ]
  },
  {
   "cell_type": "code",
   "execution_count": 66,
   "id": "1ac7b482-b85c-4de8-b5f1-1cdda38dc093",
   "metadata": {},
   "outputs": [
    {
     "data": {
      "application/vnd.microsoft.datawrangler.viewer.v0+json": {
       "columns": [
        {
         "name": "index",
         "rawType": "int64",
         "type": "integer"
        },
        {
         "name": "Sales",
         "rawType": "float64",
         "type": "float"
        },
        {
         "name": "State",
         "rawType": "object",
         "type": "string"
        }
       ],
       "ref": "06828fe6-edc6-4758-a5e3-cbd67fbe68cb",
       "rows": [
        [
         "0",
         "261.96",
         "Kentucky"
        ],
        [
         "1",
         "731.94",
         "Kentucky"
        ],
        [
         "2",
         "14.62",
         "California"
        ],
        [
         "3",
         "957.5775",
         "Florida"
        ],
        [
         "4",
         "22.368",
         "Florida"
        ],
        [
         "5",
         "48.86",
         "California"
        ],
        [
         "6",
         "7.28",
         "California"
        ],
        [
         "7",
         "907.152",
         "California"
        ],
        [
         "8",
         "18.504",
         "California"
        ],
        [
         "9",
         "114.9",
         "California"
        ],
        [
         "10",
         "1706.184",
         "California"
        ],
        [
         "11",
         "911.424",
         "California"
        ],
        [
         "12",
         "15.552",
         "North Carolina"
        ],
        [
         "13",
         "407.976",
         "Washington"
        ],
        [
         "14",
         "68.81",
         "Texas"
        ],
        [
         "15",
         "2.544",
         "Texas"
        ],
        [
         "16",
         "665.88",
         "Wisconsin"
        ],
        [
         "17",
         "55.5",
         "Utah"
        ],
        [
         "18",
         "8.56",
         "California"
        ],
        [
         "19",
         "213.48",
         "California"
        ],
        [
         "20",
         "22.72",
         "California"
        ],
        [
         "21",
         "19.46",
         "Nebraska"
        ],
        [
         "22",
         "60.34",
         "Nebraska"
        ],
        [
         "23",
         "71.372",
         "Pennsylvania"
        ],
        [
         "24",
         "1044.63",
         "Utah"
        ],
        [
         "25",
         "11.648",
         "California"
        ],
        [
         "26",
         "90.57",
         "California"
        ],
        [
         "27",
         "3083.43",
         "Pennsylvania"
        ],
        [
         "28",
         "9.618",
         "Pennsylvania"
        ],
        [
         "29",
         "124.2",
         "Pennsylvania"
        ],
        [
         "30",
         "3.264",
         "Pennsylvania"
        ],
        [
         "31",
         "86.304",
         "Pennsylvania"
        ],
        [
         "32",
         "6.858",
         "Pennsylvania"
        ],
        [
         "33",
         "15.76",
         "Pennsylvania"
        ],
        [
         "34",
         "29.472",
         "Texas"
        ],
        [
         "35",
         "1097.544",
         "Texas"
        ],
        [
         "36",
         "190.92",
         "Texas"
        ],
        [
         "37",
         "113.328",
         "Texas"
        ],
        [
         "38",
         "532.3992",
         "Texas"
        ],
        [
         "39",
         "212.058",
         "Texas"
        ],
        [
         "40",
         "371.168",
         "Texas"
        ],
        [
         "41",
         "147.168",
         "Illinois"
        ],
        [
         "42",
         "77.88",
         "California"
        ],
        [
         "43",
         "95.616",
         "Florida"
        ],
        [
         "44",
         "45.98",
         "Minnesota"
        ],
        [
         "45",
         "17.46",
         "Minnesota"
        ],
        [
         "46",
         "211.96",
         "Michigan"
        ],
        [
         "47",
         "45.0",
         "Delaware"
        ],
        [
         "48",
         "21.8",
         "Delaware"
        ],
        [
         "49",
         "38.22",
         "Indiana"
        ]
       ],
       "shape": {
        "columns": 2,
        "rows": 9800
       }
      },
      "text/html": [
       "<div>\n",
       "<style scoped>\n",
       "    .dataframe tbody tr th:only-of-type {\n",
       "        vertical-align: middle;\n",
       "    }\n",
       "\n",
       "    .dataframe tbody tr th {\n",
       "        vertical-align: top;\n",
       "    }\n",
       "\n",
       "    .dataframe thead th {\n",
       "        text-align: right;\n",
       "    }\n",
       "</style>\n",
       "<table border=\"1\" class=\"dataframe\">\n",
       "  <thead>\n",
       "    <tr style=\"text-align: right;\">\n",
       "      <th></th>\n",
       "      <th>Sales</th>\n",
       "      <th>State</th>\n",
       "    </tr>\n",
       "  </thead>\n",
       "  <tbody>\n",
       "    <tr>\n",
       "      <th>0</th>\n",
       "      <td>261.9600</td>\n",
       "      <td>Kentucky</td>\n",
       "    </tr>\n",
       "    <tr>\n",
       "      <th>1</th>\n",
       "      <td>731.9400</td>\n",
       "      <td>Kentucky</td>\n",
       "    </tr>\n",
       "    <tr>\n",
       "      <th>2</th>\n",
       "      <td>14.6200</td>\n",
       "      <td>California</td>\n",
       "    </tr>\n",
       "    <tr>\n",
       "      <th>3</th>\n",
       "      <td>957.5775</td>\n",
       "      <td>Florida</td>\n",
       "    </tr>\n",
       "    <tr>\n",
       "      <th>4</th>\n",
       "      <td>22.3680</td>\n",
       "      <td>Florida</td>\n",
       "    </tr>\n",
       "    <tr>\n",
       "      <th>...</th>\n",
       "      <td>...</td>\n",
       "      <td>...</td>\n",
       "    </tr>\n",
       "    <tr>\n",
       "      <th>9795</th>\n",
       "      <td>3.7980</td>\n",
       "      <td>Illinois</td>\n",
       "    </tr>\n",
       "    <tr>\n",
       "      <th>9796</th>\n",
       "      <td>10.3680</td>\n",
       "      <td>Ohio</td>\n",
       "    </tr>\n",
       "    <tr>\n",
       "      <th>9797</th>\n",
       "      <td>235.1880</td>\n",
       "      <td>Ohio</td>\n",
       "    </tr>\n",
       "    <tr>\n",
       "      <th>9798</th>\n",
       "      <td>26.3760</td>\n",
       "      <td>Ohio</td>\n",
       "    </tr>\n",
       "    <tr>\n",
       "      <th>9799</th>\n",
       "      <td>10.3840</td>\n",
       "      <td>Ohio</td>\n",
       "    </tr>\n",
       "  </tbody>\n",
       "</table>\n",
       "<p>9800 rows × 2 columns</p>\n",
       "</div>"
      ],
      "text/plain": [
       "         Sales       State\n",
       "0     261.9600    Kentucky\n",
       "1     731.9400    Kentucky\n",
       "2      14.6200  California\n",
       "3     957.5775     Florida\n",
       "4      22.3680     Florida\n",
       "...        ...         ...\n",
       "9795    3.7980    Illinois\n",
       "9796   10.3680        Ohio\n",
       "9797  235.1880        Ohio\n",
       "9798   26.3760        Ohio\n",
       "9799   10.3840        Ohio\n",
       "\n",
       "[9800 rows x 2 columns]"
      ]
     },
     "execution_count": 66,
     "metadata": {},
     "output_type": "execute_result"
    }
   ],
   "source": [
    "df[[\"Sales\", \"State\"]]"
   ]
  },
  {
   "cell_type": "code",
   "execution_count": 67,
   "id": "b4ca2d13-1dee-4ffe-beae-ee1a9575c106",
   "metadata": {},
   "outputs": [
    {
     "data": {
      "text/plain": [
       "9800"
      ]
     },
     "execution_count": 67,
     "metadata": {},
     "output_type": "execute_result"
    }
   ],
   "source": [
    "len(df)"
   ]
  },
  {
   "cell_type": "code",
   "execution_count": 68,
   "id": "c1c1688a-a137-41b8-bedb-a55d0ec822cb",
   "metadata": {},
   "outputs": [
    {
     "data": {
      "application/vnd.microsoft.datawrangler.viewer.v0+json": {
       "columns": [
        {
         "name": "index",
         "rawType": "object",
         "type": "string"
        },
        {
         "name": "0",
         "rawType": "object",
         "type": "unknown"
        }
       ],
       "ref": "c6533889-4cf4-48e2-89f9-951df50f530c",
       "rows": [
        [
         "Row ID",
         "int64"
        ],
        [
         "Order ID",
         "object"
        ],
        [
         "Order Date",
         "object"
        ],
        [
         "Ship Date",
         "object"
        ],
        [
         "Ship Mode",
         "object"
        ],
        [
         "Customer ID",
         "object"
        ],
        [
         "Customer Name",
         "object"
        ],
        [
         "Segment",
         "object"
        ],
        [
         "Country",
         "object"
        ],
        [
         "City",
         "object"
        ],
        [
         "State",
         "object"
        ],
        [
         "Postal Code",
         "float64"
        ],
        [
         "Region",
         "object"
        ],
        [
         "Product ID",
         "object"
        ],
        [
         "Category",
         "object"
        ],
        [
         "Sub-Category",
         "object"
        ],
        [
         "Product Name",
         "object"
        ],
        [
         "Sales",
         "float64"
        ]
       ],
       "shape": {
        "columns": 1,
        "rows": 18
       }
      },
      "text/plain": [
       "Row ID             int64\n",
       "Order ID          object\n",
       "Order Date        object\n",
       "Ship Date         object\n",
       "Ship Mode         object\n",
       "Customer ID       object\n",
       "Customer Name     object\n",
       "Segment           object\n",
       "Country           object\n",
       "City              object\n",
       "State             object\n",
       "Postal Code      float64\n",
       "Region            object\n",
       "Product ID        object\n",
       "Category          object\n",
       "Sub-Category      object\n",
       "Product Name      object\n",
       "Sales            float64\n",
       "dtype: object"
      ]
     },
     "execution_count": 68,
     "metadata": {},
     "output_type": "execute_result"
    }
   ],
   "source": [
    "df.dtypes"
   ]
  },
  {
   "cell_type": "code",
   "execution_count": 69,
   "id": "9bc95bad-1a5f-49a6-aa30-cce98bb34ba6",
   "metadata": {},
   "outputs": [
    {
     "data": {
      "application/vnd.microsoft.datawrangler.viewer.v0+json": {
       "columns": [
        {
         "name": "index",
         "rawType": "object",
         "type": "string"
        },
        {
         "name": "Row ID",
         "rawType": "float64",
         "type": "float"
        },
        {
         "name": "Postal Code",
         "rawType": "float64",
         "type": "float"
        },
        {
         "name": "Sales",
         "rawType": "float64",
         "type": "float"
        }
       ],
       "ref": "1d4a25bd-4efa-4309-a0b1-b6974f867acb",
       "rows": [
        [
         "count",
         "9800.0",
         "9789.0",
         "9800.0"
        ],
        [
         "mean",
         "4900.5",
         "55273.322402696904",
         "230.76905945918367"
        ],
        [
         "std",
         "2829.1606529145706",
         "32041.223412812957",
         "626.6518748388042"
        ],
        [
         "min",
         "1.0",
         "1040.0",
         "0.444"
        ],
        [
         "25%",
         "2450.75",
         "23223.0",
         "17.248"
        ],
        [
         "50%",
         "4900.5",
         "58103.0",
         "54.489999999999995"
        ],
        [
         "75%",
         "7350.25",
         "90008.0",
         "210.60500000000002"
        ],
        [
         "max",
         "9800.0",
         "99301.0",
         "22638.48"
        ]
       ],
       "shape": {
        "columns": 3,
        "rows": 8
       }
      },
      "text/html": [
       "<div>\n",
       "<style scoped>\n",
       "    .dataframe tbody tr th:only-of-type {\n",
       "        vertical-align: middle;\n",
       "    }\n",
       "\n",
       "    .dataframe tbody tr th {\n",
       "        vertical-align: top;\n",
       "    }\n",
       "\n",
       "    .dataframe thead th {\n",
       "        text-align: right;\n",
       "    }\n",
       "</style>\n",
       "<table border=\"1\" class=\"dataframe\">\n",
       "  <thead>\n",
       "    <tr style=\"text-align: right;\">\n",
       "      <th></th>\n",
       "      <th>Row ID</th>\n",
       "      <th>Postal Code</th>\n",
       "      <th>Sales</th>\n",
       "    </tr>\n",
       "  </thead>\n",
       "  <tbody>\n",
       "    <tr>\n",
       "      <th>count</th>\n",
       "      <td>9800.000000</td>\n",
       "      <td>9789.000000</td>\n",
       "      <td>9800.000000</td>\n",
       "    </tr>\n",
       "    <tr>\n",
       "      <th>mean</th>\n",
       "      <td>4900.500000</td>\n",
       "      <td>55273.322403</td>\n",
       "      <td>230.769059</td>\n",
       "    </tr>\n",
       "    <tr>\n",
       "      <th>std</th>\n",
       "      <td>2829.160653</td>\n",
       "      <td>32041.223413</td>\n",
       "      <td>626.651875</td>\n",
       "    </tr>\n",
       "    <tr>\n",
       "      <th>min</th>\n",
       "      <td>1.000000</td>\n",
       "      <td>1040.000000</td>\n",
       "      <td>0.444000</td>\n",
       "    </tr>\n",
       "    <tr>\n",
       "      <th>25%</th>\n",
       "      <td>2450.750000</td>\n",
       "      <td>23223.000000</td>\n",
       "      <td>17.248000</td>\n",
       "    </tr>\n",
       "    <tr>\n",
       "      <th>50%</th>\n",
       "      <td>4900.500000</td>\n",
       "      <td>58103.000000</td>\n",
       "      <td>54.490000</td>\n",
       "    </tr>\n",
       "    <tr>\n",
       "      <th>75%</th>\n",
       "      <td>7350.250000</td>\n",
       "      <td>90008.000000</td>\n",
       "      <td>210.605000</td>\n",
       "    </tr>\n",
       "    <tr>\n",
       "      <th>max</th>\n",
       "      <td>9800.000000</td>\n",
       "      <td>99301.000000</td>\n",
       "      <td>22638.480000</td>\n",
       "    </tr>\n",
       "  </tbody>\n",
       "</table>\n",
       "</div>"
      ],
      "text/plain": [
       "            Row ID   Postal Code         Sales\n",
       "count  9800.000000   9789.000000   9800.000000\n",
       "mean   4900.500000  55273.322403    230.769059\n",
       "std    2829.160653  32041.223413    626.651875\n",
       "min       1.000000   1040.000000      0.444000\n",
       "25%    2450.750000  23223.000000     17.248000\n",
       "50%    4900.500000  58103.000000     54.490000\n",
       "75%    7350.250000  90008.000000    210.605000\n",
       "max    9800.000000  99301.000000  22638.480000"
      ]
     },
     "execution_count": 69,
     "metadata": {},
     "output_type": "execute_result"
    }
   ],
   "source": [
    "df.describe()"
   ]
  },
  {
   "cell_type": "code",
   "execution_count": 70,
   "id": "f1fe340d-3a67-4edb-a384-c85fe8ca3f66",
   "metadata": {},
   "outputs": [
    {
     "data": {
      "application/vnd.microsoft.datawrangler.viewer.v0+json": {
       "columns": [
        {
         "name": "index",
         "rawType": "object",
         "type": "string"
        },
        {
         "name": "0",
         "rawType": "int64",
         "type": "integer"
        }
       ],
       "ref": "b5d5ecc9-cf61-4016-a752-6369948f9d08",
       "rows": [
        [
         "Row ID",
         "0"
        ],
        [
         "Order ID",
         "0"
        ],
        [
         "Order Date",
         "0"
        ],
        [
         "Ship Date",
         "0"
        ],
        [
         "Ship Mode",
         "0"
        ],
        [
         "Customer ID",
         "0"
        ],
        [
         "Customer Name",
         "0"
        ],
        [
         "Segment",
         "0"
        ],
        [
         "Country",
         "0"
        ],
        [
         "City",
         "0"
        ],
        [
         "State",
         "0"
        ],
        [
         "Postal Code",
         "11"
        ],
        [
         "Region",
         "0"
        ],
        [
         "Product ID",
         "0"
        ],
        [
         "Category",
         "0"
        ],
        [
         "Sub-Category",
         "0"
        ],
        [
         "Product Name",
         "0"
        ],
        [
         "Sales",
         "0"
        ]
       ],
       "shape": {
        "columns": 1,
        "rows": 18
       }
      },
      "text/plain": [
       "Row ID            0\n",
       "Order ID          0\n",
       "Order Date        0\n",
       "Ship Date         0\n",
       "Ship Mode         0\n",
       "Customer ID       0\n",
       "Customer Name     0\n",
       "Segment           0\n",
       "Country           0\n",
       "City              0\n",
       "State             0\n",
       "Postal Code      11\n",
       "Region            0\n",
       "Product ID        0\n",
       "Category          0\n",
       "Sub-Category      0\n",
       "Product Name      0\n",
       "Sales             0\n",
       "dtype: int64"
      ]
     },
     "execution_count": 70,
     "metadata": {},
     "output_type": "execute_result"
    }
   ],
   "source": [
    "df.isnull().sum()"
   ]
  },
  {
   "cell_type": "code",
   "execution_count": 71,
   "id": "ce5c06c2-5641-47a5-a371-b6691aea627c",
   "metadata": {},
   "outputs": [],
   "source": [
    "import matplotlib.pyplot as plt"
   ]
  },
  {
   "cell_type": "code",
   "execution_count": 72,
   "id": "04b45660-f71b-44c0-9b04-c616753aee45",
   "metadata": {},
   "outputs": [
    {
     "data": {
      "image/png": "[encoded data removed]",
      "text/plain": [
       "<Figure size 900x500 with 1 Axes>"
      ]
     },
     "metadata": {},
     "output_type": "display_data"
    }
   ],
   "source": [
    "plt.figure(figsize=(9, 5))\n",
    "plt.hist(df[\"Sales\"], bins=30, color='pink', edgecolor='black')\n",
    "plt.title(\"Sales Distribution\")\n",
    "plt.xlabel(\"Sales\")\n",
    "plt.ylabel(\"Frequency\")\n",
    "plt.grid(True)\n",
    "plt.show()"
   ]
  },
  {
   "cell_type": "code",
   "execution_count": 73,
   "id": "02f9bada-4a6c-4756-82a3-ec6270c91001",
   "metadata": {},
   "outputs": [
    {
     "data": {
      "image/png": "[encoded data removed]",
      "text/plain": [
       "<Figure size 800x500 with 1 Axes>"
      ]
     },
     "metadata": {},
     "output_type": "display_data"
    }
   ],
   "source": [
    "plt.figure(figsize = (8,5))\n",
    "plt.hist(df[\"Postal Code\"], bins=20, color = \"yellow\", edgecolor = \"brown\")\n",
    "plt.title(\"Quantity Histogram\")\n",
    "plt.show()"
   ]
  },
  {
   "cell_type": "code",
   "execution_count": 74,
   "id": "f0dd4672-0f4f-496c-93ad-de3626a60595",
   "metadata": {},
   "outputs": [
    {
     "data": {
      "application/vnd.microsoft.datawrangler.viewer.v0+json": {
       "columns": [
        {
         "name": "index",
         "rawType": "object",
         "type": "string"
        },
        {
         "name": "0",
         "rawType": "int64",
         "type": "integer"
        }
       ],
       "ref": "2708702e-b0f4-4bd2-850a-c8edbc981755",
       "rows": [
        [
         "Row ID",
         "0"
        ],
        [
         "Order ID",
         "0"
        ],
        [
         "Order Date",
         "0"
        ],
        [
         "Ship Date",
         "0"
        ],
        [
         "Ship Mode",
         "0"
        ],
        [
         "Customer ID",
         "0"
        ],
        [
         "Customer Name",
         "0"
        ],
        [
         "Segment",
         "0"
        ],
        [
         "Country",
         "0"
        ],
        [
         "City",
         "0"
        ],
        [
         "State",
         "0"
        ],
        [
         "Postal Code",
         "11"
        ],
        [
         "Region",
         "0"
        ],
        [
         "Product ID",
         "0"
        ],
        [
         "Category",
         "0"
        ],
        [
         "Sub-Category",
         "0"
        ],
        [
         "Product Name",
         "0"
        ],
        [
         "Sales",
         "0"
        ]
       ],
       "shape": {
        "columns": 1,
        "rows": 18
       }
      },
      "text/plain": [
       "Row ID            0\n",
       "Order ID          0\n",
       "Order Date        0\n",
       "Ship Date         0\n",
       "Ship Mode         0\n",
       "Customer ID       0\n",
       "Customer Name     0\n",
       "Segment           0\n",
       "Country           0\n",
       "City              0\n",
       "State             0\n",
       "Postal Code      11\n",
       "Region            0\n",
       "Product ID        0\n",
       "Category          0\n",
       "Sub-Category      0\n",
       "Product Name      0\n",
       "Sales             0\n",
       "dtype: int64"
      ]
     },
     "execution_count": 74,
     "metadata": {},
     "output_type": "execute_result"
    }
   ],
   "source": [
    "df.isnull().sum()"
   ]
  },
  {
   "cell_type": "code",
   "execution_count": 75,
   "id": "c3aba6ea-5082-4cc7-83e0-5e3860f56b2d",
   "metadata": {},
   "outputs": [
    {
     "data": {
      "application/vnd.microsoft.datawrangler.viewer.v0+json": {
       "columns": [
        {
         "name": "index",
         "rawType": "object",
         "type": "string"
        },
        {
         "name": "0",
         "rawType": "float64",
         "type": "float"
        }
       ],
       "ref": "951f6c68-cf25-4e91-9eca-1ec924dad053",
       "rows": [
        [
         "Row ID",
         "0.0"
        ],
        [
         "Order ID",
         "0.0"
        ],
        [
         "Order Date",
         "0.0"
        ],
        [
         "Ship Date",
         "0.0"
        ],
        [
         "Ship Mode",
         "0.0"
        ],
        [
         "Customer ID",
         "0.0"
        ],
        [
         "Customer Name",
         "0.0"
        ],
        [
         "Segment",
         "0.0"
        ],
        [
         "Country",
         "0.0"
        ],
        [
         "City",
         "0.0"
        ],
        [
         "State",
         "0.0"
        ],
        [
         "Postal Code",
         "0.11224489795918367"
        ],
        [
         "Region",
         "0.0"
        ],
        [
         "Product ID",
         "0.0"
        ],
        [
         "Category",
         "0.0"
        ],
        [
         "Sub-Category",
         "0.0"
        ],
        [
         "Product Name",
         "0.0"
        ],
        [
         "Sales",
         "0.0"
        ]
       ],
       "shape": {
        "columns": 1,
        "rows": 18
       }
      },
      "text/plain": [
       "Row ID           0.000000\n",
       "Order ID         0.000000\n",
       "Order Date       0.000000\n",
       "Ship Date        0.000000\n",
       "Ship Mode        0.000000\n",
       "Customer ID      0.000000\n",
       "Customer Name    0.000000\n",
       "Segment          0.000000\n",
       "Country          0.000000\n",
       "City             0.000000\n",
       "State            0.000000\n",
       "Postal Code      0.112245\n",
       "Region           0.000000\n",
       "Product ID       0.000000\n",
       "Category         0.000000\n",
       "Sub-Category     0.000000\n",
       "Product Name     0.000000\n",
       "Sales            0.000000\n",
       "dtype: float64"
      ]
     },
     "execution_count": 75,
     "metadata": {},
     "output_type": "execute_result"
    }
   ],
   "source": [
    "df.isnull().mean() * 100"
   ]
  },
  {
   "cell_type": "code",
   "execution_count": 76,
   "id": "5f97c50f-912d-4afa-9fe0-5156ab15bda1",
   "metadata": {},
   "outputs": [
    {
     "data": {
      "application/vnd.microsoft.datawrangler.viewer.v0+json": {
       "columns": [
        {
         "name": "index",
         "rawType": "int64",
         "type": "integer"
        },
        {
         "name": "Row ID",
         "rawType": "int64",
         "type": "integer"
        },
        {
         "name": "Order ID",
         "rawType": "object",
         "type": "string"
        },
        {
         "name": "Order Date",
         "rawType": "object",
         "type": "string"
        },
        {
         "name": "Ship Date",
         "rawType": "object",
         "type": "string"
        },
        {
         "name": "Ship Mode",
         "rawType": "object",
         "type": "string"
        },
        {
         "name": "Customer ID",
         "rawType": "object",
         "type": "string"
        },
        {
         "name": "Customer Name",
         "rawType": "object",
         "type": "string"
        },
        {
         "name": "Segment",
         "rawType": "object",
         "type": "string"
        },
        {
         "name": "Country",
         "rawType": "object",
         "type": "string"
        },
        {
         "name": "City",
         "rawType": "object",
         "type": "string"
        },
        {
         "name": "State",
         "rawType": "object",
         "type": "string"
        },
        {
         "name": "Postal Code",
         "rawType": "float64",
         "type": "float"
        },
        {
         "name": "Region",
         "rawType": "object",
         "type": "string"
        },
        {
         "name": "Product ID",
         "rawType": "object",
         "type": "string"
        },
        {
         "name": "Category",
         "rawType": "object",
         "type": "string"
        },
        {
         "name": "Sub-Category",
         "rawType": "object",
         "type": "string"
        },
        {
         "name": "Product Name",
         "rawType": "object",
         "type": "string"
        },
        {
         "name": "Sales",
         "rawType": "float64",
         "type": "float"
        }
       ],
       "ref": "b4aa9fdd-e365-430e-9cb7-fb19ec9be545",
       "rows": [
        [
         "2234",
         "2235",
         "CA-2018-104066",
         "05/12/2018",
         "10/12/2018",
         "Standard Class",
         "QJ-19255",
         "Quincy Jones",
         "Corporate",
         "United States",
         "Burlington",
         "Vermont",
         null,
         "East",
         "TEC-AC-10001013",
         "Technology",
         "Accessories",
         "Logitech ClearChat Comfort/USB Headset H390",
         "205.03"
        ],
        [
         "5274",
         "5275",
         "CA-2016-162887",
         "07/11/2016",
         "09/11/2016",
         "Second Class",
         "SV-20785",
         "Stewart Visinsky",
         "Consumer",
         "United States",
         "Burlington",
         "Vermont",
         null,
         "East",
         "FUR-CH-10000595",
         "Furniture",
         "Chairs",
         "Safco Contoured Stacking Chairs",
         "715.2"
        ],
        [
         "8798",
         "8799",
         "US-2017-150140",
         "06/04/2017",
         "10/04/2017",
         "Standard Class",
         "VM-21685",
         "Valerie Mitchum",
         "Home Office",
         "United States",
         "Burlington",
         "Vermont",
         null,
         "East",
         "TEC-PH-10002555",
         "Technology",
         "Phones",
         "Nortel Meridian M5316 Digital phone",
         "1294.75"
        ],
        [
         "9146",
         "9147",
         "US-2017-165505",
         "23/01/2017",
         "27/01/2017",
         "Standard Class",
         "CB-12535",
         "Claudia Bergmann",
         "Corporate",
         "United States",
         "Burlington",
         "Vermont",
         null,
         "East",
         "TEC-AC-10002926",
         "Technology",
         "Accessories",
         "Logitech Wireless Marathon Mouse M705",
         "99.98"
        ],
        [
         "9147",
         "9148",
         "US-2017-165505",
         "23/01/2017",
         "27/01/2017",
         "Standard Class",
         "CB-12535",
         "Claudia Bergmann",
         "Corporate",
         "United States",
         "Burlington",
         "Vermont",
         null,
         "East",
         "OFF-AR-10003477",
         "Office Supplies",
         "Art",
         "4009 Highlighters",
         "8.04"
        ],
        [
         "9148",
         "9149",
         "US-2017-165505",
         "23/01/2017",
         "27/01/2017",
         "Standard Class",
         "CB-12535",
         "Claudia Bergmann",
         "Corporate",
         "United States",
         "Burlington",
         "Vermont",
         null,
         "East",
         "OFF-ST-10001526",
         "Office Supplies",
         "Storage",
         "Iceberg Mobile Mega Data/Printer Cart",
         "1564.29"
        ],
        [
         "9386",
         "9387",
         "US-2018-127292",
         "19/01/2018",
         "23/01/2018",
         "Standard Class",
         "RM-19375",
         "Raymond Messe",
         "Consumer",
         "United States",
         "Burlington",
         "Vermont",
         null,
         "East",
         "OFF-PA-10000157",
         "Office Supplies",
         "Paper",
         "Xerox 191",
         "79.92"
        ],
        [
         "9387",
         "9388",
         "US-2018-127292",
         "19/01/2018",
         "23/01/2018",
         "Standard Class",
         "RM-19375",
         "Raymond Messe",
         "Consumer",
         "United States",
         "Burlington",
         "Vermont",
         null,
         "East",
         "OFF-PA-10001970",
         "Office Supplies",
         "Paper",
         "Xerox 1881",
         "12.28"
        ],
        [
         "9388",
         "9389",
         "US-2018-127292",
         "19/01/2018",
         "23/01/2018",
         "Standard Class",
         "RM-19375",
         "Raymond Messe",
         "Consumer",
         "United States",
         "Burlington",
         "Vermont",
         null,
         "East",
         "OFF-AP-10000828",
         "Office Supplies",
         "Appliances",
         "Avanti 4.4 Cu. Ft. Refrigerator",
         "542.94"
        ],
        [
         "9389",
         "9390",
         "US-2018-127292",
         "19/01/2018",
         "23/01/2018",
         "Standard Class",
         "RM-19375",
         "Raymond Messe",
         "Consumer",
         "United States",
         "Burlington",
         "Vermont",
         null,
         "East",
         "OFF-EN-10001509",
         "Office Supplies",
         "Envelopes",
         "Poly String Tie Envelopes",
         "2.04"
        ],
        [
         "9741",
         "9742",
         "CA-2016-117086",
         "08/11/2016",
         "12/11/2016",
         "Standard Class",
         "QJ-19255",
         "Quincy Jones",
         "Corporate",
         "United States",
         "Burlington",
         "Vermont",
         null,
         "East",
         "FUR-BO-10004834",
         "Furniture",
         "Bookcases",
         "Riverside Palais Royal Lawyers Bookcase, Royale Cherry Finish",
         "4404.9"
        ]
       ],
       "shape": {
        "columns": 18,
        "rows": 11
       }
      },
      "text/html": [
       "<div>\n",
       "<style scoped>\n",
       "    .dataframe tbody tr th:only-of-type {\n",
       "        vertical-align: middle;\n",
       "    }\n",
       "\n",
       "    .dataframe tbody tr th {\n",
       "        vertical-align: top;\n",
       "    }\n",
       "\n",
       "    .dataframe thead th {\n",
       "        text-align: right;\n",
       "    }\n",
       "</style>\n",
       "<table border=\"1\" class=\"dataframe\">\n",
       "  <thead>\n",
       "    <tr style=\"text-align: right;\">\n",
       "      <th></th>\n",
       "      <th>Row ID</th>\n",
       "      <th>Order ID</th>\n",
       "      <th>Order Date</th>\n",
       "      <th>Ship Date</th>\n",
       "      <th>Ship Mode</th>\n",
       "      <th>Customer ID</th>\n",
       "      <th>Customer Name</th>\n",
       "      <th>Segment</th>\n",
       "      <th>Country</th>\n",
       "      <th>City</th>\n",
       "      <th>State</th>\n",
       "      <th>Postal Code</th>\n",
       "      <th>Region</th>\n",
       "      <th>Product ID</th>\n",
       "      <th>Category</th>\n",
       "      <th>Sub-Category</th>\n",
       "      <th>Product Name</th>\n",
       "      <th>Sales</th>\n",
       "    </tr>\n",
       "  </thead>\n",
       "  <tbody>\n",
       "    <tr>\n",
       "      <th>2234</th>\n",
       "      <td>2235</td>\n",
       "      <td>CA-2018-104066</td>\n",
       "      <td>05/12/2018</td>\n",
       "      <td>10/12/2018</td>\n",
       "      <td>Standard Class</td>\n",
       "      <td>QJ-19255</td>\n",
       "      <td>Quincy Jones</td>\n",
       "      <td>Corporate</td>\n",
       "      <td>United States</td>\n",
       "      <td>Burlington</td>\n",
       "      <td>Vermont</td>\n",
       "      <td>NaN</td>\n",
       "      <td>East</td>\n",
       "      <td>TEC-AC-10001013</td>\n",
       "      <td>Technology</td>\n",
       "      <td>Accessories</td>\n",
       "      <td>Logitech ClearChat Comfort/USB Headset H390</td>\n",
       "      <td>205.03</td>\n",
       "    </tr>\n",
       "    <tr>\n",
       "      <th>5274</th>\n",
       "      <td>5275</td>\n",
       "      <td>CA-2016-162887</td>\n",
       "      <td>07/11/2016</td>\n",
       "      <td>09/11/2016</td>\n",
       "      <td>Second Class</td>\n",
       "      <td>SV-20785</td>\n",
       "      <td>Stewart Visinsky</td>\n",
       "      <td>Consumer</td>\n",
       "      <td>United States</td>\n",
       "      <td>Burlington</td>\n",
       "      <td>Vermont</td>\n",
       "      <td>NaN</td>\n",
       "      <td>East</td>\n",
       "      <td>FUR-CH-10000595</td>\n",
       "      <td>Furniture</td>\n",
       "      <td>Chairs</td>\n",
       "      <td>Safco Contoured Stacking Chairs</td>\n",
       "      <td>715.20</td>\n",
       "    </tr>\n",
       "    <tr>\n",
       "      <th>8798</th>\n",
       "      <td>8799</td>\n",
       "      <td>US-2017-150140</td>\n",
       "      <td>06/04/2017</td>\n",
       "      <td>10/04/2017</td>\n",
       "      <td>Standard Class</td>\n",
       "      <td>VM-21685</td>\n",
       "      <td>Valerie Mitchum</td>\n",
       "      <td>Home Office</td>\n",
       "      <td>United States</td>\n",
       "      <td>Burlington</td>\n",
       "      <td>Vermont</td>\n",
       "      <td>NaN</td>\n",
       "      <td>East</td>\n",
       "      <td>TEC-PH-10002555</td>\n",
       "      <td>Technology</td>\n",
       "      <td>Phones</td>\n",
       "      <td>Nortel Meridian M5316 Digital phone</td>\n",
       "      <td>1294.75</td>\n",
       "    </tr>\n",
       "    <tr>\n",
       "      <th>9146</th>\n",
       "      <td>9147</td>\n",
       "      <td>US-2017-165505</td>\n",
       "      <td>23/01/2017</td>\n",
       "      <td>27/01/2017</td>\n",
       "      <td>Standard Class</td>\n",
       "      <td>CB-12535</td>\n",
       "      <td>Claudia Bergmann</td>\n",
       "      <td>Corporate</td>\n",
       "      <td>United States</td>\n",
       "      <td>Burlington</td>\n",
       "      <td>Vermont</td>\n",
       "      <td>NaN</td>\n",
       "      <td>East</td>\n",
       "      <td>TEC-AC-10002926</td>\n",
       "      <td>Technology</td>\n",
       "      <td>Accessories</td>\n",
       "      <td>Logitech Wireless Marathon Mouse M705</td>\n",
       "      <td>99.98</td>\n",
       "    </tr>\n",
       "    <tr>\n",
       "      <th>9147</th>\n",
       "      <td>9148</td>\n",
       "      <td>US-2017-165505</td>\n",
       "      <td>23/01/2017</td>\n",
       "      <td>27/01/2017</td>\n",
       "      <td>Standard Class</td>\n",
       "      <td>CB-12535</td>\n",
       "      <td>Claudia Bergmann</td>\n",
       "      <td>Corporate</td>\n",
       "      <td>United States</td>\n",
       "      <td>Burlington</td>\n",
       "      <td>Vermont</td>\n",
       "      <td>NaN</td>\n",
       "      <td>East</td>\n",
       "      <td>OFF-AR-10003477</td>\n",
       "      <td>Office Supplies</td>\n",
       "      <td>Art</td>\n",
       "      <td>4009 Highlighters</td>\n",
       "      <td>8.04</td>\n",
       "    </tr>\n",
       "    <tr>\n",
       "      <th>9148</th>\n",
       "      <td>9149</td>\n",
       "      <td>US-2017-165505</td>\n",
       "      <td>23/01/2017</td>\n",
       "      <td>27/01/2017</td>\n",
       "      <td>Standard Class</td>\n",
       "      <td>CB-12535</td>\n",
       "      <td>Claudia Bergmann</td>\n",
       "      <td>Corporate</td>\n",
       "      <td>United States</td>\n",
       "      <td>Burlington</td>\n",
       "      <td>Vermont</td>\n",
       "      <td>NaN</td>\n",
       "      <td>East</td>\n",
       "      <td>OFF-ST-10001526</td>\n",
       "      <td>Office Supplies</td>\n",
       "      <td>Storage</td>\n",
       "      <td>Iceberg Mobile Mega Data/Printer Cart</td>\n",
       "      <td>1564.29</td>\n",
       "    </tr>\n",
       "    <tr>\n",
       "      <th>9386</th>\n",
       "      <td>9387</td>\n",
       "      <td>US-2018-127292</td>\n",
       "      <td>19/01/2018</td>\n",
       "      <td>23/01/2018</td>\n",
       "      <td>Standard Class</td>\n",
       "      <td>RM-19375</td>\n",
       "      <td>Raymond Messe</td>\n",
       "      <td>Consumer</td>\n",
       "      <td>United States</td>\n",
       "      <td>Burlington</td>\n",
       "      <td>Vermont</td>\n",
       "      <td>NaN</td>\n",
       "      <td>East</td>\n",
       "      <td>OFF-PA-10000157</td>\n",
       "      <td>Office Supplies</td>\n",
       "      <td>Paper</td>\n",
       "      <td>Xerox 191</td>\n",
       "      <td>79.92</td>\n",
       "    </tr>\n",
       "    <tr>\n",
       "      <th>9387</th>\n",
       "      <td>9388</td>\n",
       "      <td>US-2018-127292</td>\n",
       "      <td>19/01/2018</td>\n",
       "      <td>23/01/2018</td>\n",
       "      <td>Standard Class</td>\n",
       "      <td>RM-19375</td>\n",
       "      <td>Raymond Messe</td>\n",
       "      <td>Consumer</td>\n",
       "      <td>United States</td>\n",
       "      <td>Burlington</td>\n",
       "      <td>Vermont</td>\n",
       "      <td>NaN</td>\n",
       "      <td>East</td>\n",
       "      <td>OFF-PA-10001970</td>\n",
       "      <td>Office Supplies</td>\n",
       "      <td>Paper</td>\n",
       "      <td>Xerox 1881</td>\n",
       "      <td>12.28</td>\n",
       "    </tr>\n",
       "    <tr>\n",
       "      <th>9388</th>\n",
       "      <td>9389</td>\n",
       "      <td>US-2018-127292</td>\n",
       "      <td>19/01/2018</td>\n",
       "      <td>23/01/2018</td>\n",
       "      <td>Standard Class</td>\n",
       "      <td>RM-19375</td>\n",
       "      <td>Raymond Messe</td>\n",
       "      <td>Consumer</td>\n",
       "      <td>United States</td>\n",
       "      <td>Burlington</td>\n",
       "      <td>Vermont</td>\n",
       "      <td>NaN</td>\n",
       "      <td>East</td>\n",
       "      <td>OFF-AP-10000828</td>\n",
       "      <td>Office Supplies</td>\n",
       "      <td>Appliances</td>\n",
       "      <td>Avanti 4.4 Cu. Ft. Refrigerator</td>\n",
       "      <td>542.94</td>\n",
       "    </tr>\n",
       "    <tr>\n",
       "      <th>9389</th>\n",
       "      <td>9390</td>\n",
       "      <td>US-2018-127292</td>\n",
       "      <td>19/01/2018</td>\n",
       "      <td>23/01/2018</td>\n",
       "      <td>Standard Class</td>\n",
       "      <td>RM-19375</td>\n",
       "      <td>Raymond Messe</td>\n",
       "      <td>Consumer</td>\n",
       "      <td>United States</td>\n",
       "      <td>Burlington</td>\n",
       "      <td>Vermont</td>\n",
       "      <td>NaN</td>\n",
       "      <td>East</td>\n",
       "      <td>OFF-EN-10001509</td>\n",
       "      <td>Office Supplies</td>\n",
       "      <td>Envelopes</td>\n",
       "      <td>Poly String Tie Envelopes</td>\n",
       "      <td>2.04</td>\n",
       "    </tr>\n",
       "    <tr>\n",
       "      <th>9741</th>\n",
       "      <td>9742</td>\n",
       "      <td>CA-2016-117086</td>\n",
       "      <td>08/11/2016</td>\n",
       "      <td>12/11/2016</td>\n",
       "      <td>Standard Class</td>\n",
       "      <td>QJ-19255</td>\n",
       "      <td>Quincy Jones</td>\n",
       "      <td>Corporate</td>\n",
       "      <td>United States</td>\n",
       "      <td>Burlington</td>\n",
       "      <td>Vermont</td>\n",
       "      <td>NaN</td>\n",
       "      <td>East</td>\n",
       "      <td>FUR-BO-10004834</td>\n",
       "      <td>Furniture</td>\n",
       "      <td>Bookcases</td>\n",
       "      <td>Riverside Palais Royal Lawyers Bookcase, Royal...</td>\n",
       "      <td>4404.90</td>\n",
       "    </tr>\n",
       "  </tbody>\n",
       "</table>\n",
       "</div>"
      ],
      "text/plain": [
       "      Row ID        Order ID  Order Date   Ship Date       Ship Mode  \\\n",
       "2234    2235  CA-2018-104066  05/12/2018  10/12/2018  Standard Class   \n",
       "5274    5275  CA-2016-162887  07/11/2016  09/11/2016    Second Class   \n",
       "8798    8799  US-2017-150140  06/04/2017  10/04/2017  Standard Class   \n",
       "9146    9147  US-2017-165505  23/01/2017  27/01/2017  Standard Class   \n",
       "9147    9148  US-2017-165505  23/01/2017  27/01/2017  Standard Class   \n",
       "9148    9149  US-2017-165505  23/01/2017  27/01/2017  Standard Class   \n",
       "9386    9387  US-2018-127292  19/01/2018  23/01/2018  Standard Class   \n",
       "9387    9388  US-2018-127292  19/01/2018  23/01/2018  Standard Class   \n",
       "9388    9389  US-2018-127292  19/01/2018  23/01/2018  Standard Class   \n",
       "9389    9390  US-2018-127292  19/01/2018  23/01/2018  Standard Class   \n",
       "9741    9742  CA-2016-117086  08/11/2016  12/11/2016  Standard Class   \n",
       "\n",
       "     Customer ID     Customer Name      Segment        Country        City  \\\n",
       "2234    QJ-19255      Quincy Jones    Corporate  United States  Burlington   \n",
       "5274    SV-20785  Stewart Visinsky     Consumer  United States  Burlington   \n",
       "8798    VM-21685   Valerie Mitchum  Home Office  United States  Burlington   \n",
       "9146    CB-12535  Claudia Bergmann    Corporate  United States  Burlington   \n",
       "9147    CB-12535  Claudia Bergmann    Corporate  United States  Burlington   \n",
       "9148    CB-12535  Claudia Bergmann    Corporate  United States  Burlington   \n",
       "9386    RM-19375     Raymond Messe     Consumer  United States  Burlington   \n",
       "9387    RM-19375     Raymond Messe     Consumer  United States  Burlington   \n",
       "9388    RM-19375     Raymond Messe     Consumer  United States  Burlington   \n",
       "9389    RM-19375     Raymond Messe     Consumer  United States  Burlington   \n",
       "9741    QJ-19255      Quincy Jones    Corporate  United States  Burlington   \n",
       "\n",
       "        State  Postal Code Region       Product ID         Category  \\\n",
       "2234  Vermont          NaN   East  TEC-AC-10001013       Technology   \n",
       "5274  Vermont          NaN   East  FUR-CH-10000595        Furniture   \n",
       "8798  Vermont          NaN   East  TEC-PH-10002555       Technology   \n",
       "9146  Vermont          NaN   East  TEC-AC-10002926       Technology   \n",
       "9147  Vermont          NaN   East  OFF-AR-10003477  Office Supplies   \n",
       "9148  Vermont          NaN   East  OFF-ST-10001526  Office Supplies   \n",
       "9386  Vermont          NaN   East  OFF-PA-10000157  Office Supplies   \n",
       "9387  Vermont          NaN   East  OFF-PA-10001970  Office Supplies   \n",
       "9388  Vermont          NaN   East  OFF-AP-10000828  Office Supplies   \n",
       "9389  Vermont          NaN   East  OFF-EN-10001509  Office Supplies   \n",
       "9741  Vermont          NaN   East  FUR-BO-10004834        Furniture   \n",
       "\n",
       "     Sub-Category                                       Product Name    Sales  \n",
       "2234  Accessories        Logitech ClearChat Comfort/USB Headset H390   205.03  \n",
       "5274       Chairs                    Safco Contoured Stacking Chairs   715.20  \n",
       "8798       Phones                Nortel Meridian M5316 Digital phone  1294.75  \n",
       "9146  Accessories              Logitech Wireless Marathon Mouse M705    99.98  \n",
       "9147          Art                                  4009 Highlighters     8.04  \n",
       "9148      Storage              Iceberg Mobile Mega Data/Printer Cart  1564.29  \n",
       "9386        Paper                                          Xerox 191    79.92  \n",
       "9387        Paper                                         Xerox 1881    12.28  \n",
       "9388   Appliances                    Avanti 4.4 Cu. Ft. Refrigerator   542.94  \n",
       "9389    Envelopes                          Poly String Tie Envelopes     2.04  \n",
       "9741    Bookcases  Riverside Palais Royal Lawyers Bookcase, Royal...  4404.90  "
      ]
     },
     "execution_count": 76,
     "metadata": {},
     "output_type": "execute_result"
    }
   ],
   "source": [
    "df[df.isnull().any(axis=1)]"
   ]
  },
  {
   "cell_type": "code",
   "execution_count": 77,
   "id": "5a0d6176-7750-47c4-b944-fc132547a4b7",
   "metadata": {},
   "outputs": [],
   "source": [
    "df[\"Postal Code\"] = df[\"Postal Code\"].fillna(df[\"Postal Code\"].mean())"
   ]
  },
  {
   "cell_type": "code",
   "execution_count": 78,
   "id": "f778f307-ecac-4df5-b9ae-b33786b35894",
   "metadata": {},
   "outputs": [
    {
     "data": {
      "application/vnd.microsoft.datawrangler.viewer.v0+json": {
       "columns": [
        {
         "name": "index",
         "rawType": "object",
         "type": "string"
        },
        {
         "name": "0",
         "rawType": "int64",
         "type": "integer"
        }
       ],
       "ref": "50d4ccad-a37c-4409-a646-99d841d1f486",
       "rows": [
        [
         "Row ID",
         "0"
        ],
        [
         "Order ID",
         "0"
        ],
        [
         "Order Date",
         "0"
        ],
        [
         "Ship Date",
         "0"
        ],
        [
         "Ship Mode",
         "0"
        ],
        [
         "Customer ID",
         "0"
        ],
        [
         "Customer Name",
         "0"
        ],
        [
         "Segment",
         "0"
        ],
        [
         "Country",
         "0"
        ],
        [
         "City",
         "0"
        ],
        [
         "State",
         "0"
        ],
        [
         "Postal Code",
         "0"
        ],
        [
         "Region",
         "0"
        ],
        [
         "Product ID",
         "0"
        ],
        [
         "Category",
         "0"
        ],
        [
         "Sub-Category",
         "0"
        ],
        [
         "Product Name",
         "0"
        ],
        [
         "Sales",
         "0"
        ]
       ],
       "shape": {
        "columns": 1,
        "rows": 18
       }
      },
      "text/plain": [
       "Row ID           0\n",
       "Order ID         0\n",
       "Order Date       0\n",
       "Ship Date        0\n",
       "Ship Mode        0\n",
       "Customer ID      0\n",
       "Customer Name    0\n",
       "Segment          0\n",
       "Country          0\n",
       "City             0\n",
       "State            0\n",
       "Postal Code      0\n",
       "Region           0\n",
       "Product ID       0\n",
       "Category         0\n",
       "Sub-Category     0\n",
       "Product Name     0\n",
       "Sales            0\n",
       "dtype: int64"
      ]
     },
     "execution_count": 78,
     "metadata": {},
     "output_type": "execute_result"
    }
   ],
   "source": [
    "df.isnull().sum()"
   ]
  },
  {
   "cell_type": "code",
   "execution_count": 79,
   "id": "d3bd4f45-a294-40cf-8aef-aeea92bc2e95",
   "metadata": {},
   "outputs": [
    {
     "data": {
      "application/vnd.microsoft.datawrangler.viewer.v0+json": {
       "columns": [
        {
         "name": "index",
         "rawType": "object",
         "type": "string"
        },
        {
         "name": "0",
         "rawType": "object",
         "type": "unknown"
        }
       ],
       "ref": "3f2eaeb0-a9c4-4ecc-801a-e63e3c105a65",
       "rows": [
        [
         "Row ID",
         "int64"
        ],
        [
         "Order ID",
         "object"
        ],
        [
         "Order Date",
         "object"
        ],
        [
         "Ship Date",
         "object"
        ],
        [
         "Ship Mode",
         "object"
        ],
        [
         "Customer ID",
         "object"
        ],
        [
         "Customer Name",
         "object"
        ],
        [
         "Segment",
         "object"
        ],
        [
         "Country",
         "object"
        ],
        [
         "City",
         "object"
        ],
        [
         "State",
         "object"
        ],
        [
         "Postal Code",
         "float64"
        ],
        [
         "Region",
         "object"
        ],
        [
         "Product ID",
         "object"
        ],
        [
         "Category",
         "object"
        ],
        [
         "Sub-Category",
         "object"
        ],
        [
         "Product Name",
         "object"
        ],
        [
         "Sales",
         "float64"
        ]
       ],
       "shape": {
        "columns": 1,
        "rows": 18
       }
      },
      "text/plain": [
       "Row ID             int64\n",
       "Order ID          object\n",
       "Order Date        object\n",
       "Ship Date         object\n",
       "Ship Mode         object\n",
       "Customer ID       object\n",
       "Customer Name     object\n",
       "Segment           object\n",
       "Country           object\n",
       "City              object\n",
       "State             object\n",
       "Postal Code      float64\n",
       "Region            object\n",
       "Product ID        object\n",
       "Category          object\n",
       "Sub-Category      object\n",
       "Product Name      object\n",
       "Sales            float64\n",
       "dtype: object"
      ]
     },
     "execution_count": 79,
     "metadata": {},
     "output_type": "execute_result"
    }
   ],
   "source": [
    "df.dtypes"
   ]
  },
  {
   "cell_type": "code",
   "execution_count": 80,
   "id": "03e21204-093a-4fad-90fb-40fe8e8a009e",
   "metadata": {},
   "outputs": [],
   "source": [
    "df[\"Order Date\"] = pd.to_datetime(df[\"Order Date\"], dayfirst=True)\n",
    "df[\"Ship Date\"] = pd.to_datetime(df[\"Ship Date\"], dayfirst=True)"
   ]
  },
  {
   "cell_type": "code",
   "execution_count": 81,
   "id": "ce7595bd-5d28-4c40-9ead-4c4a720885a7",
   "metadata": {},
   "outputs": [
    {
     "data": {
      "application/vnd.microsoft.datawrangler.viewer.v0+json": {
       "columns": [
        {
         "name": "index",
         "rawType": "object",
         "type": "string"
        },
        {
         "name": "0",
         "rawType": "object",
         "type": "unknown"
        }
       ],
       "ref": "46ee09a1-6745-4bd8-b353-166e7e997d60",
       "rows": [
        [
         "Row ID",
         "int64"
        ],
        [
         "Order ID",
         "object"
        ],
        [
         "Order Date",
         "datetime64[ns]"
        ],
        [
         "Ship Date",
         "datetime64[ns]"
        ],
        [
         "Ship Mode",
         "object"
        ],
        [
         "Customer ID",
         "object"
        ],
        [
         "Customer Name",
         "object"
        ],
        [
         "Segment",
         "object"
        ],
        [
         "Country",
         "object"
        ],
        [
         "City",
         "object"
        ],
        [
         "State",
         "object"
        ],
        [
         "Postal Code",
         "float64"
        ],
        [
         "Region",
         "object"
        ],
        [
         "Product ID",
         "object"
        ],
        [
         "Category",
         "object"
        ],
        [
         "Sub-Category",
         "object"
        ],
        [
         "Product Name",
         "object"
        ],
        [
         "Sales",
         "float64"
        ]
       ],
       "shape": {
        "columns": 1,
        "rows": 18
       }
      },
      "text/plain": [
       "Row ID                    int64\n",
       "Order ID                 object\n",
       "Order Date       datetime64[ns]\n",
       "Ship Date        datetime64[ns]\n",
       "Ship Mode                object\n",
       "Customer ID              object\n",
       "Customer Name            object\n",
       "Segment                  object\n",
       "Country                  object\n",
       "City                     object\n",
       "State                    object\n",
       "Postal Code             float64\n",
       "Region                   object\n",
       "Product ID               object\n",
       "Category                 object\n",
       "Sub-Category             object\n",
       "Product Name             object\n",
       "Sales                   float64\n",
       "dtype: object"
      ]
     },
     "execution_count": 81,
     "metadata": {},
     "output_type": "execute_result"
    }
   ],
   "source": [
    "df.dtypes"
   ]
  },
  {
   "cell_type": "code",
   "execution_count": 82,
   "id": "8acfafd3-f464-4667-9822-ad10be7e8964",
   "metadata": {},
   "outputs": [
    {
     "data": {
      "text/plain": [
       "Index(['Order ID', 'Ship Mode', 'Customer ID', 'Customer Name', 'Segment',\n",
       "       'Country', 'City', 'State', 'Region', 'Product ID', 'Category',\n",
       "       'Sub-Category', 'Product Name'],\n",
       "      dtype='object')"
      ]
     },
     "execution_count": 82,
     "metadata": {},
     "output_type": "execute_result"
    }
   ],
   "source": [
    "df.select_dtypes(include='object').columns"
   ]
  },
  {
   "cell_type": "code",
   "execution_count": 83,
   "id": "749caddd-0e79-45e3-b6e0-0a607c1cab3d",
   "metadata": {},
   "outputs": [
    {
     "data": {
      "application/vnd.microsoft.datawrangler.viewer.v0+json": {
       "columns": [
        {
         "name": "Ship Mode",
         "rawType": "object",
         "type": "string"
        },
        {
         "name": "count",
         "rawType": "int64",
         "type": "integer"
        }
       ],
       "ref": "1aaf6fef-2d2a-412e-bf2c-5fae80e48b5b",
       "rows": [
        [
         "Standard Class",
         "5859"
        ],
        [
         "Second Class",
         "1902"
        ],
        [
         "First Class",
         "1501"
        ],
        [
         "Same Day",
         "538"
        ]
       ],
       "shape": {
        "columns": 1,
        "rows": 4
       }
      },
      "text/plain": [
       "Ship Mode\n",
       "Standard Class    5859\n",
       "Second Class      1902\n",
       "First Class       1501\n",
       "Same Day           538\n",
       "Name: count, dtype: int64"
      ]
     },
     "execution_count": 83,
     "metadata": {},
     "output_type": "execute_result"
    }
   ],
   "source": [
    "df['Ship Mode'].value_counts()"
   ]
  },
  {
   "cell_type": "code",
   "execution_count": 84,
   "id": "e346f081-2425-4292-8571-05c0145cf238",
   "metadata": {},
   "outputs": [],
   "source": [
    "df[\"Ship Mode\"] = df[\"Ship Mode\"].astype(\"category\")"
   ]
  },
  {
   "cell_type": "code",
   "execution_count": 85,
   "id": "1483336f-e17d-4840-986b-7ed5f6f909ba",
   "metadata": {},
   "outputs": [
    {
     "data": {
      "application/vnd.microsoft.datawrangler.viewer.v0+json": {
       "columns": [
        {
         "name": "Segment",
         "rawType": "object",
         "type": "string"
        },
        {
         "name": "count",
         "rawType": "int64",
         "type": "integer"
        }
       ],
       "ref": "d16ab8c8-2675-4db1-881f-0bb6e09f9436",
       "rows": [
        [
         "Consumer",
         "5101"
        ],
        [
         "Corporate",
         "2953"
        ],
        [
         "Home Office",
         "1746"
        ]
       ],
       "shape": {
        "columns": 1,
        "rows": 3
       }
      },
      "text/plain": [
       "Segment\n",
       "Consumer       5101\n",
       "Corporate      2953\n",
       "Home Office    1746\n",
       "Name: count, dtype: int64"
      ]
     },
     "execution_count": 85,
     "metadata": {},
     "output_type": "execute_result"
    }
   ],
   "source": [
    "df['Segment'].value_counts()"
   ]
  },
  {
   "cell_type": "code",
   "execution_count": 86,
   "id": "468fd188-1f84-4cd3-8846-d3f4c258c7f0",
   "metadata": {},
   "outputs": [],
   "source": [
    "df[\"Segment\"] = df[\"Segment\"].astype(\"category\")"
   ]
  },
  {
   "cell_type": "code",
   "execution_count": 87,
   "id": "20c0ae52-86c3-4d60-892b-c8018588839f",
   "metadata": {},
   "outputs": [
    {
     "data": {
      "application/vnd.microsoft.datawrangler.viewer.v0+json": {
       "columns": [
        {
         "name": "Country",
         "rawType": "object",
         "type": "string"
        },
        {
         "name": "count",
         "rawType": "int64",
         "type": "integer"
        }
       ],
       "ref": "3756b533-c473-41f0-8237-d9d7eaccb098",
       "rows": [
        [
         "United States",
         "9800"
        ]
       ],
       "shape": {
        "columns": 1,
        "rows": 1
       }
      },
      "text/plain": [
       "Country\n",
       "United States    9800\n",
       "Name: count, dtype: int64"
      ]
     },
     "execution_count": 87,
     "metadata": {},
     "output_type": "execute_result"
    }
   ],
   "source": [
    "df['Country'].value_counts()"
   ]
  },
  {
   "cell_type": "code",
   "execution_count": 88,
   "id": "84709f76-8e86-4dde-be5d-63b3e35a6e69",
   "metadata": {},
   "outputs": [
    {
     "data": {
      "application/vnd.microsoft.datawrangler.viewer.v0+json": {
       "columns": [
        {
         "name": "City",
         "rawType": "object",
         "type": "string"
        },
        {
         "name": "count",
         "rawType": "int64",
         "type": "integer"
        }
       ],
       "ref": "1466e0ff-1e75-4560-8ec9-6d82758d809f",
       "rows": [
        [
         "New York City",
         "891"
        ],
        [
         "Los Angeles",
         "728"
        ],
        [
         "Philadelphia",
         "532"
        ],
        [
         "San Francisco",
         "500"
        ],
        [
         "Seattle",
         "426"
        ],
        [
         "Houston",
         "374"
        ],
        [
         "Chicago",
         "308"
        ],
        [
         "Columbus",
         "221"
        ],
        [
         "San Diego",
         "170"
        ],
        [
         "Springfield",
         "161"
        ],
        [
         "Dallas",
         "156"
        ],
        [
         "Jacksonville",
         "125"
        ],
        [
         "Detroit",
         "115"
        ],
        [
         "Newark",
         "92"
        ],
        [
         "Jackson",
         "82"
        ],
        [
         "Richmond",
         "81"
        ],
        [
         "Columbia",
         "81"
        ],
        [
         "Aurora",
         "68"
        ],
        [
         "Phoenix",
         "63"
        ],
        [
         "Arlington",
         "60"
        ],
        [
         "San Antonio",
         "59"
        ],
        [
         "Miami",
         "56"
        ],
        [
         "Louisville",
         "54"
        ],
        [
         "Rochester",
         "53"
        ],
        [
         "Long Beach",
         "52"
        ],
        [
         "Henderson",
         "51"
        ],
        [
         "Charlotte",
         "51"
        ],
        [
         "Lakewood",
         "48"
        ],
        [
         "Lancaster",
         "46"
        ],
        [
         "Lawrence",
         "44"
        ],
        [
         "Denver",
         "44"
        ],
        [
         "Baltimore",
         "43"
        ],
        [
         "Pasadena",
         "42"
        ],
        [
         "San Jose",
         "42"
        ],
        [
         "Fairfield",
         "42"
        ],
        [
         "Fayetteville",
         "41"
        ],
        [
         "Salem",
         "40"
        ],
        [
         "Milwaukee",
         "40"
        ],
        [
         "Austin",
         "39"
        ],
        [
         "Atlanta",
         "39"
        ],
        [
         "Cleveland",
         "38"
        ],
        [
         "Franklin",
         "37"
        ],
        [
         "Huntsville",
         "36"
        ],
        [
         "Tampa",
         "36"
        ],
        [
         "Wilmington",
         "36"
        ],
        [
         "Tucson",
         "32"
        ],
        [
         "Decatur",
         "32"
        ],
        [
         "Toledo",
         "31"
        ],
        [
         "Concord",
         "31"
        ],
        [
         "Providence",
         "31"
        ]
       ],
       "shape": {
        "columns": 1,
        "rows": 529
       }
      },
      "text/plain": [
       "City\n",
       "New York City        891\n",
       "Los Angeles          728\n",
       "Philadelphia         532\n",
       "San Francisco        500\n",
       "Seattle              426\n",
       "                    ... \n",
       "Hagerstown             1\n",
       "Arlington Heights      1\n",
       "East Orange            1\n",
       "San Luis Obispo        1\n",
       "Springdale             1\n",
       "Name: count, Length: 529, dtype: int64"
      ]
     },
     "execution_count": 88,
     "metadata": {},
     "output_type": "execute_result"
    }
   ],
   "source": [
    "df['City'].value_counts()"
   ]
  },
  {
   "cell_type": "code",
   "execution_count": 89,
   "id": "67891e1b-1ecf-49fb-92d7-1dc3af22396c",
   "metadata": {},
   "outputs": [
    {
     "data": {
      "application/vnd.microsoft.datawrangler.viewer.v0+json": {
       "columns": [
        {
         "name": "State",
         "rawType": "object",
         "type": "string"
        },
        {
         "name": "count",
         "rawType": "int64",
         "type": "integer"
        }
       ],
       "ref": "f7fe3501-d23d-4bcd-9ac4-ccd9f703637d",
       "rows": [
        [
         "California",
         "1946"
        ],
        [
         "New York",
         "1097"
        ],
        [
         "Texas",
         "973"
        ],
        [
         "Pennsylvania",
         "582"
        ],
        [
         "Washington",
         "504"
        ],
        [
         "Illinois",
         "483"
        ],
        [
         "Ohio",
         "454"
        ],
        [
         "Florida",
         "373"
        ],
        [
         "Michigan",
         "253"
        ],
        [
         "North Carolina",
         "247"
        ],
        [
         "Virginia",
         "224"
        ],
        [
         "Arizona",
         "223"
        ],
        [
         "Tennessee",
         "183"
        ],
        [
         "Colorado",
         "179"
        ],
        [
         "Georgia",
         "177"
        ],
        [
         "Kentucky",
         "137"
        ],
        [
         "Indiana",
         "135"
        ],
        [
         "Massachusetts",
         "135"
        ],
        [
         "Oregon",
         "122"
        ],
        [
         "New Jersey",
         "122"
        ],
        [
         "Maryland",
         "105"
        ],
        [
         "Wisconsin",
         "105"
        ],
        [
         "Delaware",
         "93"
        ],
        [
         "Minnesota",
         "89"
        ],
        [
         "Connecticut",
         "82"
        ],
        [
         "Missouri",
         "66"
        ],
        [
         "Oklahoma",
         "66"
        ],
        [
         "Alabama",
         "61"
        ],
        [
         "Arkansas",
         "60"
        ],
        [
         "Rhode Island",
         "55"
        ],
        [
         "Utah",
         "53"
        ],
        [
         "Mississippi",
         "53"
        ],
        [
         "South Carolina",
         "42"
        ],
        [
         "Louisiana",
         "41"
        ],
        [
         "Nevada",
         "39"
        ],
        [
         "Nebraska",
         "38"
        ],
        [
         "New Mexico",
         "37"
        ],
        [
         "New Hampshire",
         "27"
        ],
        [
         "Iowa",
         "26"
        ],
        [
         "Kansas",
         "24"
        ],
        [
         "Idaho",
         "21"
        ],
        [
         "Montana",
         "15"
        ],
        [
         "South Dakota",
         "12"
        ],
        [
         "Vermont",
         "11"
        ],
        [
         "District of Columbia",
         "10"
        ],
        [
         "Maine",
         "8"
        ],
        [
         "North Dakota",
         "7"
        ],
        [
         "West Virginia",
         "4"
        ],
        [
         "Wyoming",
         "1"
        ]
       ],
       "shape": {
        "columns": 1,
        "rows": 49
       }
      },
      "text/plain": [
       "State\n",
       "California              1946\n",
       "New York                1097\n",
       "Texas                    973\n",
       "Pennsylvania             582\n",
       "Washington               504\n",
       "Illinois                 483\n",
       "Ohio                     454\n",
       "Florida                  373\n",
       "Michigan                 253\n",
       "North Carolina           247\n",
       "Virginia                 224\n",
       "Arizona                  223\n",
       "Tennessee                183\n",
       "Colorado                 179\n",
       "Georgia                  177\n",
       "Kentucky                 137\n",
       "Indiana                  135\n",
       "Massachusetts            135\n",
       "Oregon                   122\n",
       "New Jersey               122\n",
       "Maryland                 105\n",
       "Wisconsin                105\n",
       "Delaware                  93\n",
       "Minnesota                 89\n",
       "Connecticut               82\n",
       "Missouri                  66\n",
       "Oklahoma                  66\n",
       "Alabama                   61\n",
       "Arkansas                  60\n",
       "Rhode Island              55\n",
       "Utah                      53\n",
       "Mississippi               53\n",
       "South Carolina            42\n",
       "Louisiana                 41\n",
       "Nevada                    39\n",
       "Nebraska                  38\n",
       "New Mexico                37\n",
       "New Hampshire             27\n",
       "Iowa                      26\n",
       "Kansas                    24\n",
       "Idaho                     21\n",
       "Montana                   15\n",
       "South Dakota              12\n",
       "Vermont                   11\n",
       "District of Columbia      10\n",
       "Maine                      8\n",
       "North Dakota               7\n",
       "West Virginia              4\n",
       "Wyoming                    1\n",
       "Name: count, dtype: int64"
      ]
     },
     "execution_count": 89,
     "metadata": {},
     "output_type": "execute_result"
    }
   ],
   "source": [
    "df['State'].value_counts()"
   ]
  },
  {
   "cell_type": "code",
   "execution_count": 90,
   "id": "2dd45965-3c14-4f9a-9f10-6baef77b5482",
   "metadata": {},
   "outputs": [
    {
     "data": {
      "application/vnd.microsoft.datawrangler.viewer.v0+json": {
       "columns": [
        {
         "name": "Region",
         "rawType": "object",
         "type": "string"
        },
        {
         "name": "count",
         "rawType": "int64",
         "type": "integer"
        }
       ],
       "ref": "f7fc9ffc-0f0c-4d6d-ad58-fedb0297662a",
       "rows": [
        [
         "West",
         "3140"
        ],
        [
         "East",
         "2785"
        ],
        [
         "Central",
         "2277"
        ],
        [
         "South",
         "1598"
        ]
       ],
       "shape": {
        "columns": 1,
        "rows": 4
       }
      },
      "text/plain": [
       "Region\n",
       "West       3140\n",
       "East       2785\n",
       "Central    2277\n",
       "South      1598\n",
       "Name: count, dtype: int64"
      ]
     },
     "execution_count": 90,
     "metadata": {},
     "output_type": "execute_result"
    }
   ],
   "source": [
    "df['Region'].value_counts()"
   ]
  },
  {
   "cell_type": "code",
   "execution_count": 91,
   "id": "029e6cda-d0e2-44ee-a092-d0a3767052e9",
   "metadata": {},
   "outputs": [],
   "source": [
    "df[\"Region\"] = df[\"Region\"].astype(\"category\")"
   ]
  },
  {
   "cell_type": "code",
   "execution_count": 92,
   "id": "608c5e5e-706f-44f0-a3ef-6f63d0efb24a",
   "metadata": {},
   "outputs": [
    {
     "data": {
      "application/vnd.microsoft.datawrangler.viewer.v0+json": {
       "columns": [
        {
         "name": "Category",
         "rawType": "object",
         "type": "string"
        },
        {
         "name": "count",
         "rawType": "int64",
         "type": "integer"
        }
       ],
       "ref": "2ce3cb78-0b83-434d-b1c4-64b7880cd299",
       "rows": [
        [
         "Office Supplies",
         "5909"
        ],
        [
         "Furniture",
         "2078"
        ],
        [
         "Technology",
         "1813"
        ]
       ],
       "shape": {
        "columns": 1,
        "rows": 3
       }
      },
      "text/plain": [
       "Category\n",
       "Office Supplies    5909\n",
       "Furniture          2078\n",
       "Technology         1813\n",
       "Name: count, dtype: int64"
      ]
     },
     "execution_count": 92,
     "metadata": {},
     "output_type": "execute_result"
    }
   ],
   "source": [
    "df['Category'].value_counts()"
   ]
  },
  {
   "cell_type": "code",
   "execution_count": 93,
   "id": "679a6ea3-ac83-4045-8f4a-23938396a93f",
   "metadata": {},
   "outputs": [],
   "source": [
    "df[\"Category\"] = df[\"Category\"].astype(\"category\")"
   ]
  },
  {
   "cell_type": "code",
   "execution_count": 94,
   "id": "8cfa0c11-dd54-443e-bc43-3aa949cc59f2",
   "metadata": {},
   "outputs": [
    {
     "data": {
      "application/vnd.microsoft.datawrangler.viewer.v0+json": {
       "columns": [
        {
         "name": "Sub-Category",
         "rawType": "object",
         "type": "string"
        },
        {
         "name": "count",
         "rawType": "int64",
         "type": "integer"
        }
       ],
       "ref": "b8df63ce-6ce6-4d7b-8668-5e84249b876b",
       "rows": [
        [
         "Binders",
         "1492"
        ],
        [
         "Paper",
         "1338"
        ],
        [
         "Furnishings",
         "931"
        ],
        [
         "Phones",
         "876"
        ],
        [
         "Storage",
         "832"
        ],
        [
         "Art",
         "785"
        ],
        [
         "Accessories",
         "756"
        ],
        [
         "Chairs",
         "607"
        ],
        [
         "Appliances",
         "459"
        ],
        [
         "Labels",
         "357"
        ],
        [
         "Tables",
         "314"
        ],
        [
         "Envelopes",
         "248"
        ],
        [
         "Bookcases",
         "226"
        ],
        [
         "Fasteners",
         "214"
        ],
        [
         "Supplies",
         "184"
        ],
        [
         "Machines",
         "115"
        ],
        [
         "Copiers",
         "66"
        ]
       ],
       "shape": {
        "columns": 1,
        "rows": 17
       }
      },
      "text/plain": [
       "Sub-Category\n",
       "Binders        1492\n",
       "Paper          1338\n",
       "Furnishings     931\n",
       "Phones          876\n",
       "Storage         832\n",
       "Art             785\n",
       "Accessories     756\n",
       "Chairs          607\n",
       "Appliances      459\n",
       "Labels          357\n",
       "Tables          314\n",
       "Envelopes       248\n",
       "Bookcases       226\n",
       "Fasteners       214\n",
       "Supplies        184\n",
       "Machines        115\n",
       "Copiers          66\n",
       "Name: count, dtype: int64"
      ]
     },
     "execution_count": 94,
     "metadata": {},
     "output_type": "execute_result"
    }
   ],
   "source": [
    "df['Sub-Category'].value_counts()"
   ]
  },
  {
   "cell_type": "code",
   "execution_count": 95,
   "id": "c1b1729d-4120-4ffe-b91f-e15de8d4af23",
   "metadata": {},
   "outputs": [],
   "source": [
    "df[\"Sub-Category\"] = df[\"Sub-Category\"].astype(\"category\")"
   ]
  },
  {
   "cell_type": "code",
   "execution_count": 96,
   "id": "339e6a97-c700-4759-8040-d34b23d874e8",
   "metadata": {},
   "outputs": [
    {
     "name": "stdout",
     "output_type": "stream",
     "text": [
      "<class 'pandas.core.frame.DataFrame'>\n",
      "RangeIndex: 9800 entries, 0 to 9799\n",
      "Data columns (total 18 columns):\n",
      " #   Column         Non-Null Count  Dtype         \n",
      "---  ------         --------------  -----         \n",
      " 0   Row ID         9800 non-null   int64         \n",
      " 1   Order ID       9800 non-null   object        \n",
      " 2   Order Date     9800 non-null   datetime64[ns]\n",
      " 3   Ship Date      9800 non-null   datetime64[ns]\n",
      " 4   Ship Mode      9800 non-null   category      \n",
      " 5   Customer ID    9800 non-null   object        \n",
      " 6   Customer Name  9800 non-null   object        \n",
      " 7   Segment        9800 non-null   category      \n",
      " 8   Country        9800 non-null   object        \n",
      " 9   City           9800 non-null   object        \n",
      " 10  State          9800 non-null   object        \n",
      " 11  Postal Code    9800 non-null   float64       \n",
      " 12  Region         9800 non-null   category      \n",
      " 13  Product ID     9800 non-null   object        \n",
      " 14  Category       9800 non-null   category      \n",
      " 15  Sub-Category   9800 non-null   category      \n",
      " 16  Product Name   9800 non-null   object        \n",
      " 17  Sales          9800 non-null   float64       \n",
      "dtypes: category(5), datetime64[ns](2), float64(2), int64(1), object(8)\n",
      "memory usage: 5.8 MB\n"
     ]
    }
   ],
   "source": [
    "df.info(memory_usage='deep')"
   ]
  },
  {
   "cell_type": "code",
   "execution_count": 97,
   "id": "369be961-aa64-4805-8f3a-5da9075e1a79",
   "metadata": {},
   "outputs": [
    {
     "data": {
      "text/plain": [
       "Index(['Row ID', 'Order ID', 'Order Date', 'Ship Date', 'Ship Mode',\n",
       "       'Customer ID', 'Customer Name', 'Segment', 'Country', 'City', 'State',\n",
       "       'Postal Code', 'Region', 'Product ID', 'Category', 'Sub-Category',\n",
       "       'Product Name', 'Sales'],\n",
       "      dtype='object')"
      ]
     },
     "execution_count": 97,
     "metadata": {},
     "output_type": "execute_result"
    }
   ],
   "source": [
    "df.columns"
   ]
  },
  {
   "cell_type": "code",
   "execution_count": 98,
   "id": "d36d5cb9-ef9c-4c89-aac9-8b3bdc82e569",
   "metadata": {},
   "outputs": [
    {
     "data": {
      "application/vnd.microsoft.datawrangler.viewer.v0+json": {
       "columns": [
        {
         "name": "index",
         "rawType": "int64",
         "type": "integer"
        },
        {
         "name": "Row ID",
         "rawType": "int64",
         "type": "integer"
        },
        {
         "name": "Order ID",
         "rawType": "object",
         "type": "string"
        },
        {
         "name": "Order Date",
         "rawType": "datetime64[ns]",
         "type": "datetime"
        },
        {
         "name": "Ship Date",
         "rawType": "datetime64[ns]",
         "type": "datetime"
        },
        {
         "name": "Ship Mode",
         "rawType": "category",
         "type": "unknown"
        },
        {
         "name": "Customer ID",
         "rawType": "object",
         "type": "string"
        },
        {
         "name": "Customer Name",
         "rawType": "object",
         "type": "string"
        },
        {
         "name": "Segment",
         "rawType": "category",
         "type": "unknown"
        },
        {
         "name": "Country",
         "rawType": "object",
         "type": "string"
        },
        {
         "name": "City",
         "rawType": "object",
         "type": "string"
        },
        {
         "name": "State",
         "rawType": "object",
         "type": "string"
        },
        {
         "name": "Postal Code",
         "rawType": "float64",
         "type": "float"
        },
        {
         "name": "Region",
         "rawType": "category",
         "type": "unknown"
        },
        {
         "name": "Product ID",
         "rawType": "object",
         "type": "string"
        },
        {
         "name": "Category",
         "rawType": "category",
         "type": "unknown"
        },
        {
         "name": "Sub-Category",
         "rawType": "category",
         "type": "unknown"
        },
        {
         "name": "Product Name",
         "rawType": "object",
         "type": "string"
        },
        {
         "name": "Sales",
         "rawType": "float64",
         "type": "float"
        }
       ],
       "ref": "d282bd28-28ce-41a9-8ddc-0dc00ff0a230",
       "rows": [
        [
         "0",
         "1",
         "CA-2017-152156",
         "2017-11-08 00:00:00",
         "2017-11-11 00:00:00",
         "Second Class",
         "CG-12520",
         "Claire Gute",
         "Consumer",
         "United States",
         "Henderson",
         "Kentucky",
         "42420.0",
         "South",
         "FUR-BO-10001798",
         "Furniture",
         "Bookcases",
         "Bush Somerset Collection Bookcase",
         "261.96"
        ],
        [
         "1",
         "2",
         "CA-2017-152156",
         "2017-11-08 00:00:00",
         "2017-11-11 00:00:00",
         "Second Class",
         "CG-12520",
         "Claire Gute",
         "Consumer",
         "United States",
         "Henderson",
         "Kentucky",
         "42420.0",
         "South",
         "FUR-CH-10000454",
         "Furniture",
         "Chairs",
         "Hon Deluxe Fabric Upholstered Stacking Chairs, Rounded Back",
         "731.94"
        ],
        [
         "2",
         "3",
         "CA-2017-138688",
         "2017-06-12 00:00:00",
         "2017-06-16 00:00:00",
         "Second Class",
         "DV-13045",
         "Darrin Van Huff",
         "Corporate",
         "United States",
         "Los Angeles",
         "California",
         "90036.0",
         "West",
         "OFF-LA-10000240",
         "Office Supplies",
         "Labels",
         "Self-Adhesive Address Labels for Typewriters by Universal",
         "14.62"
        ],
        [
         "3",
         "4",
         "US-2016-108966",
         "2016-10-11 00:00:00",
         "2016-10-18 00:00:00",
         "Standard Class",
         "SO-20335",
         "Sean O'Donnell",
         "Consumer",
         "United States",
         "Fort Lauderdale",
         "Florida",
         "33311.0",
         "South",
         "FUR-TA-10000577",
         "Furniture",
         "Tables",
         "Bretford CR4500 Series Slim Rectangular Table",
         "957.5775"
        ],
        [
         "4",
         "5",
         "US-2016-108966",
         "2016-10-11 00:00:00",
         "2016-10-18 00:00:00",
         "Standard Class",
         "SO-20335",
         "Sean O'Donnell",
         "Consumer",
         "United States",
         "Fort Lauderdale",
         "Florida",
         "33311.0",
         "South",
         "OFF-ST-10000760",
         "Office Supplies",
         "Storage",
         "Eldon Fold 'N Roll Cart System",
         "22.368"
        ]
       ],
       "shape": {
        "columns": 18,
        "rows": 5
       }
      },
      "text/html": [
       "<div>\n",
       "<style scoped>\n",
       "    .dataframe tbody tr th:only-of-type {\n",
       "        vertical-align: middle;\n",
       "    }\n",
       "\n",
       "    .dataframe tbody tr th {\n",
       "        vertical-align: top;\n",
       "    }\n",
       "\n",
       "    .dataframe thead th {\n",
       "        text-align: right;\n",
       "    }\n",
       "</style>\n",
       "<table border=\"1\" class=\"dataframe\">\n",
       "  <thead>\n",
       "    <tr style=\"text-align: right;\">\n",
       "      <th></th>\n",
       "      <th>Row ID</th>\n",
       "      <th>Order ID</th>\n",
       "      <th>Order Date</th>\n",
       "      <th>Ship Date</th>\n",
       "      <th>Ship Mode</th>\n",
       "      <th>Customer ID</th>\n",
       "      <th>Customer Name</th>\n",
       "      <th>Segment</th>\n",
       "      <th>Country</th>\n",
       "      <th>City</th>\n",
       "      <th>State</th>\n",
       "      <th>Postal Code</th>\n",
       "      <th>Region</th>\n",
       "      <th>Product ID</th>\n",
       "      <th>Category</th>\n",
       "      <th>Sub-Category</th>\n",
       "      <th>Product Name</th>\n",
       "      <th>Sales</th>\n",
       "    </tr>\n",
       "  </thead>\n",
       "  <tbody>\n",
       "    <tr>\n",
       "      <th>0</th>\n",
       "      <td>1</td>\n",
       "      <td>CA-2017-152156</td>\n",
       "      <td>2017-11-08</td>\n",
       "      <td>2017-11-11</td>\n",
       "      <td>Second Class</td>\n",
       "      <td>CG-12520</td>\n",
       "      <td>Claire Gute</td>\n",
       "      <td>Consumer</td>\n",
       "      <td>United States</td>\n",
       "      <td>Henderson</td>\n",
       "      <td>Kentucky</td>\n",
       "      <td>42420.0</td>\n",
       "      <td>South</td>\n",
       "      <td>FUR-BO-10001798</td>\n",
       "      <td>Furniture</td>\n",
       "      <td>Bookcases</td>\n",
       "      <td>Bush Somerset Collection Bookcase</td>\n",
       "      <td>261.9600</td>\n",
       "    </tr>\n",
       "    <tr>\n",
       "      <th>1</th>\n",
       "      <td>2</td>\n",
       "      <td>CA-2017-152156</td>\n",
       "      <td>2017-11-08</td>\n",
       "      <td>2017-11-11</td>\n",
       "      <td>Second Class</td>\n",
       "      <td>CG-12520</td>\n",
       "      <td>Claire Gute</td>\n",
       "      <td>Consumer</td>\n",
       "      <td>United States</td>\n",
       "      <td>Henderson</td>\n",
       "      <td>Kentucky</td>\n",
       "      <td>42420.0</td>\n",
       "      <td>South</td>\n",
       "      <td>FUR-CH-10000454</td>\n",
       "      <td>Furniture</td>\n",
       "      <td>Chairs</td>\n",
       "      <td>Hon Deluxe Fabric Upholstered Stacking Chairs,...</td>\n",
       "      <td>731.9400</td>\n",
       "    </tr>\n",
       "    <tr>\n",
       "      <th>2</th>\n",
       "      <td>3</td>\n",
       "      <td>CA-2017-138688</td>\n",
       "      <td>2017-06-12</td>\n",
       "      <td>2017-06-16</td>\n",
       "      <td>Second Class</td>\n",
       "      <td>DV-13045</td>\n",
       "      <td>Darrin Van Huff</td>\n",
       "      <td>Corporate</td>\n",
       "      <td>United States</td>\n",
       "      <td>Los Angeles</td>\n",
       "      <td>California</td>\n",
       "      <td>90036.0</td>\n",
       "      <td>West</td>\n",
       "      <td>OFF-LA-10000240</td>\n",
       "      <td>Office Supplies</td>\n",
       "      <td>Labels</td>\n",
       "      <td>Self-Adhesive Address Labels for Typewriters b...</td>\n",
       "      <td>14.6200</td>\n",
       "    </tr>\n",
       "    <tr>\n",
       "      <th>3</th>\n",
       "      <td>4</td>\n",
       "      <td>US-2016-108966</td>\n",
       "      <td>2016-10-11</td>\n",
       "      <td>2016-10-18</td>\n",
       "      <td>Standard Class</td>\n",
       "      <td>SO-20335</td>\n",
       "      <td>Sean O'Donnell</td>\n",
       "      <td>Consumer</td>\n",
       "      <td>United States</td>\n",
       "      <td>Fort Lauderdale</td>\n",
       "      <td>Florida</td>\n",
       "      <td>33311.0</td>\n",
       "      <td>South</td>\n",
       "      <td>FUR-TA-10000577</td>\n",
       "      <td>Furniture</td>\n",
       "      <td>Tables</td>\n",
       "      <td>Bretford CR4500 Series Slim Rectangular Table</td>\n",
       "      <td>957.5775</td>\n",
       "    </tr>\n",
       "    <tr>\n",
       "      <th>4</th>\n",
       "      <td>5</td>\n",
       "      <td>US-2016-108966</td>\n",
       "      <td>2016-10-11</td>\n",
       "      <td>2016-10-18</td>\n",
       "      <td>Standard Class</td>\n",
       "      <td>SO-20335</td>\n",
       "      <td>Sean O'Donnell</td>\n",
       "      <td>Consumer</td>\n",
       "      <td>United States</td>\n",
       "      <td>Fort Lauderdale</td>\n",
       "      <td>Florida</td>\n",
       "      <td>33311.0</td>\n",
       "      <td>South</td>\n",
       "      <td>OFF-ST-10000760</td>\n",
       "      <td>Office Supplies</td>\n",
       "      <td>Storage</td>\n",
       "      <td>Eldon Fold 'N Roll Cart System</td>\n",
       "      <td>22.3680</td>\n",
       "    </tr>\n",
       "  </tbody>\n",
       "</table>\n",
       "</div>"
      ],
      "text/plain": [
       "   Row ID        Order ID Order Date  Ship Date       Ship Mode Customer ID  \\\n",
       "0       1  CA-2017-152156 2017-11-08 2017-11-11    Second Class    CG-12520   \n",
       "1       2  CA-2017-152156 2017-11-08 2017-11-11    Second Class    CG-12520   \n",
       "2       3  CA-2017-138688 2017-06-12 2017-06-16    Second Class    DV-13045   \n",
       "3       4  US-2016-108966 2016-10-11 2016-10-18  Standard Class    SO-20335   \n",
       "4       5  US-2016-108966 2016-10-11 2016-10-18  Standard Class    SO-20335   \n",
       "\n",
       "     Customer Name    Segment        Country             City       State  \\\n",
       "0      Claire Gute   Consumer  United States        Henderson    Kentucky   \n",
       "1      Claire Gute   Consumer  United States        Henderson    Kentucky   \n",
       "2  Darrin Van Huff  Corporate  United States      Los Angeles  California   \n",
       "3   Sean O'Donnell   Consumer  United States  Fort Lauderdale     Florida   \n",
       "4   Sean O'Donnell   Consumer  United States  Fort Lauderdale     Florida   \n",
       "\n",
       "   Postal Code Region       Product ID         Category Sub-Category  \\\n",
       "0      42420.0  South  FUR-BO-10001798        Furniture    Bookcases   \n",
       "1      42420.0  South  FUR-CH-10000454        Furniture       Chairs   \n",
       "2      90036.0   West  OFF-LA-10000240  Office Supplies       Labels   \n",
       "3      33311.0  South  FUR-TA-10000577        Furniture       Tables   \n",
       "4      33311.0  South  OFF-ST-10000760  Office Supplies      Storage   \n",
       "\n",
       "                                        Product Name     Sales  \n",
       "0                  Bush Somerset Collection Bookcase  261.9600  \n",
       "1  Hon Deluxe Fabric Upholstered Stacking Chairs,...  731.9400  \n",
       "2  Self-Adhesive Address Labels for Typewriters b...   14.6200  \n",
       "3      Bretford CR4500 Series Slim Rectangular Table  957.5775  \n",
       "4                     Eldon Fold 'N Roll Cart System   22.3680  "
      ]
     },
     "execution_count": 98,
     "metadata": {},
     "output_type": "execute_result"
    }
   ],
   "source": [
    "df.head()"
   ]
  },
  {
   "cell_type": "code",
   "execution_count": 99,
   "id": "2578b2ad-9eaf-449d-97d2-c9fe5853a93a",
   "metadata": {},
   "outputs": [
    {
     "data": {
      "application/vnd.microsoft.datawrangler.viewer.v0+json": {
       "columns": [
        {
         "name": "index",
         "rawType": "object",
         "type": "string"
        },
        {
         "name": "0",
         "rawType": "int64",
         "type": "integer"
        }
       ],
       "ref": "7cf1ee7f-2ac7-4430-bc78-6de0fdd8c5d9",
       "rows": [
        [
         "Row ID",
         "9800"
        ]
       ],
       "shape": {
        "columns": 1,
        "rows": 1
       }
      },
      "text/plain": [
       "Row ID    9800\n",
       "dtype: int64"
      ]
     },
     "execution_count": 99,
     "metadata": {},
     "output_type": "execute_result"
    }
   ],
   "source": [
    "df[['Row ID']].nunique()"
   ]
  },
  {
   "cell_type": "code",
   "execution_count": 100,
   "id": "d0338f65-4bb3-4598-add8-aec9f78d18d6",
   "metadata": {},
   "outputs": [],
   "source": [
    "df.drop(columns=['Row ID'], inplace=True)"
   ]
  },
  {
   "cell_type": "code",
   "execution_count": 101,
   "id": "56b91c77-ae72-43af-b3cc-6a9caa219dfa",
   "metadata": {},
   "outputs": [
    {
     "data": {
      "application/vnd.microsoft.datawrangler.viewer.v0+json": {
       "columns": [
        {
         "name": "index",
         "rawType": "object",
         "type": "string"
        },
        {
         "name": "0",
         "rawType": "int64",
         "type": "integer"
        }
       ],
       "ref": "c2afa92a-45c4-4048-8cd2-ead9932d90ec",
       "rows": [
        [
         "Order ID",
         "4922"
        ]
       ],
       "shape": {
        "columns": 1,
        "rows": 1
       }
      },
      "text/plain": [
       "Order ID    4922\n",
       "dtype: int64"
      ]
     },
     "execution_count": 101,
     "metadata": {},
     "output_type": "execute_result"
    }
   ],
   "source": [
    "df[['Order ID']].nunique()"
   ]
  },
  {
   "cell_type": "code",
   "execution_count": 102,
   "id": "98d778a5-852d-41b0-9432-5f1afe7b4076",
   "metadata": {},
   "outputs": [
    {
     "data": {
      "application/vnd.microsoft.datawrangler.viewer.v0+json": {
       "columns": [
        {
         "name": "index",
         "rawType": "object",
         "type": "string"
        },
        {
         "name": "0",
         "rawType": "int64",
         "type": "integer"
        }
       ],
       "ref": "c1fa1496-836a-4181-a3e4-e072358c1b6c",
       "rows": [
        [
         "Product ID",
         "1861"
        ]
       ],
       "shape": {
        "columns": 1,
        "rows": 1
       }
      },
      "text/plain": [
       "Product ID    1861\n",
       "dtype: int64"
      ]
     },
     "execution_count": 102,
     "metadata": {},
     "output_type": "execute_result"
    }
   ],
   "source": [
    "df[['Product ID']].nunique()"
   ]
  },
  {
   "cell_type": "code",
   "execution_count": 103,
   "id": "bfd963f0-db36-4804-a6dd-5675c711fa1b",
   "metadata": {},
   "outputs": [
    {
     "data": {
      "application/vnd.microsoft.datawrangler.viewer.v0+json": {
       "columns": [
        {
         "name": "index",
         "rawType": "object",
         "type": "string"
        },
        {
         "name": "0",
         "rawType": "int64",
         "type": "integer"
        }
       ],
       "ref": "440b5af3-0234-4e23-92f7-490e80ba27c6",
       "rows": [
        [
         "Customer ID",
         "793"
        ]
       ],
       "shape": {
        "columns": 1,
        "rows": 1
       }
      },
      "text/plain": [
       "Customer ID    793\n",
       "dtype: int64"
      ]
     },
     "execution_count": 103,
     "metadata": {},
     "output_type": "execute_result"
    }
   ],
   "source": [
    "df[['Customer ID']].nunique()"
   ]
  },
  {
   "cell_type": "code",
   "execution_count": 104,
   "id": "0ecd20a0-933e-4fda-9264-8bd658252834",
   "metadata": {},
   "outputs": [
    {
     "name": "stdout",
     "output_type": "stream",
     "text": [
      "Order ID                 object\n",
      "Order Date       datetime64[ns]\n",
      "Ship Date        datetime64[ns]\n",
      "Ship Mode              category\n",
      "Customer ID              object\n",
      "Customer Name            object\n",
      "Segment                category\n",
      "Country                  object\n",
      "City                     object\n",
      "State                    object\n",
      "Postal Code             float64\n",
      "Region                 category\n",
      "Product ID               object\n",
      "Category               category\n",
      "Sub-Category           category\n",
      "Product Name             object\n",
      "Sales                   float64\n",
      "dtype: object\n",
      "\n",
      "Unique value counts:\n",
      "\n",
      "Order ID         4922\n",
      "Order Date       1230\n",
      "Ship Date        1326\n",
      "Ship Mode           4\n",
      "Customer ID       793\n",
      "Customer Name     793\n",
      "Segment             3\n",
      "Country             1\n",
      "City              529\n",
      "State              49\n",
      "Postal Code       627\n",
      "Region              4\n",
      "Product ID       1861\n",
      "Category            3\n",
      "Sub-Category       17\n",
      "Product Name     1849\n",
      "Sales            5757\n",
      "dtype: int64\n"
     ]
    }
   ],
   "source": [
    "print(df.dtypes)\n",
    "print(\"\\nUnique value counts:\\n\")\n",
    "print(df.nunique())"
   ]
  },
  {
   "cell_type": "code",
   "execution_count": 105,
   "id": "bfe2f3c8-f8ca-4643-8a9a-e69058a0c718",
   "metadata": {},
   "outputs": [],
   "source": [
    "df.drop(columns=['Country'], inplace=True)"
   ]
  },
  {
   "cell_type": "code",
   "execution_count": 106,
   "id": "c1a2f95f-ddc1-468b-8b37-5454e5152bf6",
   "metadata": {},
   "outputs": [
    {
     "data": {
      "application/vnd.microsoft.datawrangler.viewer.v0+json": {
       "columns": [
        {
         "name": "index",
         "rawType": "object",
         "type": "string"
        },
        {
         "name": "0",
         "rawType": "int64",
         "type": "integer"
        }
       ],
       "ref": "7f9f8081-031b-4b97-b5e0-6f4eca6194c6",
       "rows": [
        [
         "Order ID",
         "0"
        ],
        [
         "Order Date",
         "0"
        ],
        [
         "Ship Date",
         "0"
        ],
        [
         "Ship Mode",
         "0"
        ],
        [
         "Customer ID",
         "0"
        ],
        [
         "Customer Name",
         "0"
        ],
        [
         "Segment",
         "0"
        ],
        [
         "City",
         "0"
        ],
        [
         "State",
         "0"
        ],
        [
         "Postal Code",
         "0"
        ],
        [
         "Region",
         "0"
        ],
        [
         "Product ID",
         "0"
        ],
        [
         "Category",
         "0"
        ],
        [
         "Sub-Category",
         "0"
        ],
        [
         "Product Name",
         "0"
        ],
        [
         "Sales",
         "0"
        ]
       ],
       "shape": {
        "columns": 1,
        "rows": 16
       }
      },
      "text/plain": [
       "Order ID         0\n",
       "Order Date       0\n",
       "Ship Date        0\n",
       "Ship Mode        0\n",
       "Customer ID      0\n",
       "Customer Name    0\n",
       "Segment          0\n",
       "City             0\n",
       "State            0\n",
       "Postal Code      0\n",
       "Region           0\n",
       "Product ID       0\n",
       "Category         0\n",
       "Sub-Category     0\n",
       "Product Name     0\n",
       "Sales            0\n",
       "dtype: int64"
      ]
     },
     "execution_count": 106,
     "metadata": {},
     "output_type": "execute_result"
    }
   ],
   "source": [
    "df.isnull().sum()"
   ]
  },
  {
   "cell_type": "code",
   "execution_count": 107,
   "id": "874d7e76-594b-443c-a8e3-1da3b505d037",
   "metadata": {},
   "outputs": [
    {
     "data": {
      "application/vnd.microsoft.datawrangler.viewer.v0+json": {
       "columns": [
        {
         "name": "index",
         "rawType": "object",
         "type": "string"
        },
        {
         "name": "0",
         "rawType": "object",
         "type": "unknown"
        }
       ],
       "ref": "3898739c-4b98-44d8-bef8-c8ace2665b5a",
       "rows": [
        [
         "Order ID",
         "object"
        ],
        [
         "Order Date",
         "datetime64[ns]"
        ],
        [
         "Ship Date",
         "datetime64[ns]"
        ],
        [
         "Ship Mode",
         "category"
        ],
        [
         "Customer ID",
         "object"
        ],
        [
         "Customer Name",
         "object"
        ],
        [
         "Segment",
         "category"
        ],
        [
         "City",
         "object"
        ],
        [
         "State",
         "object"
        ],
        [
         "Postal Code",
         "float64"
        ],
        [
         "Region",
         "category"
        ],
        [
         "Product ID",
         "object"
        ],
        [
         "Category",
         "category"
        ],
        [
         "Sub-Category",
         "category"
        ],
        [
         "Product Name",
         "object"
        ],
        [
         "Sales",
         "float64"
        ]
       ],
       "shape": {
        "columns": 1,
        "rows": 16
       }
      },
      "text/plain": [
       "Order ID                 object\n",
       "Order Date       datetime64[ns]\n",
       "Ship Date        datetime64[ns]\n",
       "Ship Mode              category\n",
       "Customer ID              object\n",
       "Customer Name            object\n",
       "Segment                category\n",
       "City                     object\n",
       "State                    object\n",
       "Postal Code             float64\n",
       "Region                 category\n",
       "Product ID               object\n",
       "Category               category\n",
       "Sub-Category           category\n",
       "Product Name             object\n",
       "Sales                   float64\n",
       "dtype: object"
      ]
     },
     "execution_count": 107,
     "metadata": {},
     "output_type": "execute_result"
    }
   ],
   "source": [
    "df.dtypes\n"
   ]
  },
  {
   "cell_type": "code",
   "execution_count": 108,
   "id": "5aac8391-2037-4523-b264-767f16ad0e4d",
   "metadata": {},
   "outputs": [
    {
     "data": {
      "text/plain": [
       "np.int64(1)"
      ]
     },
     "execution_count": 108,
     "metadata": {},
     "output_type": "execute_result"
    }
   ],
   "source": [
    "df.duplicated().sum()"
   ]
  },
  {
   "cell_type": "code",
   "execution_count": 109,
   "id": "21cac8eb-9938-42ee-8157-4ce2b529e913",
   "metadata": {},
   "outputs": [],
   "source": [
    "df.drop_duplicates(inplace=True)"
   ]
  },
  {
   "cell_type": "code",
   "execution_count": 110,
   "id": "58827bff-2754-4681-ac26-ea3de3a1865a",
   "metadata": {},
   "outputs": [
    {
     "data": {
      "text/plain": [
       "np.int64(0)"
      ]
     },
     "execution_count": 110,
     "metadata": {},
     "output_type": "execute_result"
    }
   ],
   "source": [
    "df.duplicated().sum()"
   ]
  },
  {
   "cell_type": "code",
   "execution_count": 111,
   "id": "5fb5cb9e-d8fd-4356-8da5-c6d2262c3243",
   "metadata": {},
   "outputs": [
    {
     "data": {
      "text/plain": [
       "np.int64(0)"
      ]
     },
     "execution_count": 111,
     "metadata": {},
     "output_type": "execute_result"
    }
   ],
   "source": [
    "(df['Sales'] < 0).sum()"
   ]
  },
  {
   "cell_type": "code",
   "execution_count": 112,
   "id": "b0de1bd8-3328-4a88-8fe1-eb6788dcb3ad",
   "metadata": {},
   "outputs": [
    {
     "data": {
      "text/plain": [
       "np.int64(0)"
      ]
     },
     "execution_count": 112,
     "metadata": {},
     "output_type": "execute_result"
    }
   ],
   "source": [
    "(df['Order Date'] > df['Ship Date']).sum()"
   ]
  },
  {
   "cell_type": "code",
   "execution_count": 113,
   "id": "cc8c109e-4d46-4f41-9090-f8785b6e9afd",
   "metadata": {},
   "outputs": [
    {
     "name": "stdout",
     "output_type": "stream",
     "text": [
      "Ship Mode: ['Second Class', 'Standard Class', 'First Class', 'Same Day']\n",
      "Categories (4, object): ['First Class', 'Same Day', 'Second Class', 'Standard Class']\n",
      "Segment: ['Consumer', 'Corporate', 'Home Office']\n",
      "Categories (3, object): ['Consumer', 'Corporate', 'Home Office']\n",
      "Region: ['South', 'West', 'Central', 'East']\n",
      "Categories (4, object): ['Central', 'East', 'South', 'West']\n",
      "Category: ['Furniture', 'Office Supplies', 'Technology']\n",
      "Categories (3, object): ['Furniture', 'Office Supplies', 'Technology']\n",
      "Sub-Category: ['Bookcases', 'Chairs', 'Labels', 'Tables', 'Storage', ..., 'Envelopes', 'Fasteners', 'Supplies', 'Machines', 'Copiers']\n",
      "Length: 17\n",
      "Categories (17, object): ['Accessories', 'Appliances', 'Art', 'Binders', ..., 'Phones', 'Storage', 'Supplies', 'Tables']\n"
     ]
    }
   ],
   "source": [
    "for col in df.select_dtypes(include='category').columns:\n",
    "    print(f\"{col}: {df[col].unique()}\")"
   ]
  },
  {
   "cell_type": "code",
   "execution_count": 114,
   "id": "76cfe138-f395-47ee-98f4-7425e19d439b",
   "metadata": {},
   "outputs": [
    {
     "name": "stdout",
     "output_type": "stream",
     "text": [
      "<class 'pandas.core.frame.DataFrame'>\n",
      "Index: 9799 entries, 0 to 9799\n",
      "Data columns (total 16 columns):\n",
      " #   Column         Non-Null Count  Dtype         \n",
      "---  ------         --------------  -----         \n",
      " 0   Order ID       9799 non-null   object        \n",
      " 1   Order Date     9799 non-null   datetime64[ns]\n",
      " 2   Ship Date      9799 non-null   datetime64[ns]\n",
      " 3   Ship Mode      9799 non-null   category      \n",
      " 4   Customer ID    9799 non-null   object        \n",
      " 5   Customer Name  9799 non-null   object        \n",
      " 6   Segment        9799 non-null   category      \n",
      " 7   City           9799 non-null   object        \n",
      " 8   State          9799 non-null   object        \n",
      " 9   Postal Code    9799 non-null   float64       \n",
      " 10  Region         9799 non-null   category      \n",
      " 11  Product ID     9799 non-null   object        \n",
      " 12  Category       9799 non-null   category      \n",
      " 13  Sub-Category   9799 non-null   category      \n",
      " 14  Product Name   9799 non-null   object        \n",
      " 15  Sales          9799 non-null   float64       \n",
      "dtypes: category(5), datetime64[ns](2), float64(2), object(7)\n",
      "memory usage: 967.8+ KB\n"
     ]
    }
   ],
   "source": [
    "df.info()"
   ]
  }
 ],
 "metadata": {
  "kernelspec": {
   "display_name": "Python 3",
   "language": "python",
   "name": "python3"
  },
  "language_info": {
   "codemirror_mode": {
    "name": "ipython",
    "version": 3
   },
   "file_extension": ".py",
   "mimetype": "text/x-python",
   "name": "python",
   "nbconvert_exporter": "python",
   "pygments_lexer": "ipython3",
   "version": "3.11.9"
  }
 },
 "nbformat": 4,
 "nbformat_minor": 5
}
